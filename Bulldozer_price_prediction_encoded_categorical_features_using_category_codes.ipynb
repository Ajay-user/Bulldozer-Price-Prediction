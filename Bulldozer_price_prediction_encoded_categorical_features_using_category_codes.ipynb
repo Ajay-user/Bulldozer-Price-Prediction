{
  "nbformat": 4,
  "nbformat_minor": 0,
  "metadata": {
    "colab": {
      "name": "Bulldozer price prediction - encoded categorical features using category codes.ipynb",
      "provenance": [],
      "collapsed_sections": [],
      "toc_visible": true,
      "mount_file_id": "1ExYAuTYmfQbXbuF_fSOFZhanICUjvIS7",
      "authorship_tag": "ABX9TyM7kUNVFmJBGjLkK3Q5DhZ8",
      "include_colab_link": true
    },
    "kernelspec": {
      "name": "python3",
      "display_name": "Python 3"
    },
    "language_info": {
      "name": "python"
    }
  },
  "cells": [
    {
      "cell_type": "markdown",
      "metadata": {
        "id": "view-in-github",
        "colab_type": "text"
      },
      "source": [
        "<a href=\"https://colab.research.google.com/github/Ajay-user/Bulldozer-Price-Prediction/blob/main/Bulldozer_price_prediction_encoded_categorical_features_using_category_codes.ipynb\" target=\"_parent\"><img src=\"https://colab.research.google.com/assets/colab-badge.svg\" alt=\"Open In Colab\"/></a>"
      ]
    },
    {
      "cell_type": "code",
      "metadata": {
        "id": "fKA-WHqBrxH4"
      },
      "source": [
        "import pandas as pd\n",
        "import numpy as np\n",
        "import matplotlib.pyplot as plt\n"
      ],
      "execution_count": 7,
      "outputs": []
    },
    {
      "cell_type": "markdown",
      "metadata": {
        "id": "SYKm7dKk2f9F"
      },
      "source": [
        "# Problem definition\n",
        "Blue Book for Bulldozers\n",
        "Predict the auction sale price for a piece of heavy equipment to create a \"blue book\" for bulldozers.\n",
        "\n",
        "Fast Iron is creating a \"blue book for bull dozers,\" for customers to value what their heavy equipment fleet is worth at auction.\n",
        "\n",
        "link : https://www.kaggle.com/c/bluebook-for-bulldozers/overview\n",
        "\n",
        "# Data\n",
        "\n",
        "You are predicting the sale price of bulldozers sold at auctions.\n",
        "\n",
        "The data for this competition is split into three parts:\n",
        "\n",
        "Train.csv is the training set, which contains data through the end of 2011.\n",
        "\n",
        "Valid.csv is the validation set, which contains data from January 1, 2012 - April 30, 2012 \n",
        "\n",
        "Test.csv is the test set, it contains data from May 1, 2012 - November 2012. \n",
        "\n",
        "# Evaluation\n",
        "\n",
        "The evaluation metric for this competition is the RMSLE (root mean squared log error) between the actual and predicted auction prices.\n"
      ]
    },
    {
      "cell_type": "markdown",
      "metadata": {
        "id": "AsbwkGOa5wg8"
      },
      "source": [
        "# Import the data\n",
        "\n",
        "link : https://www.kaggle.com/c/bluebook-for-bulldozers/data"
      ]
    },
    {
      "cell_type": "code",
      "metadata": {
        "id": "V7VMUKkr2aLf"
      },
      "source": [
        "# import the train and validation data \n",
        "bulldozer_data = pd.read_csv('/content/drive/MyDrive/Colab Notebooks/Bullldozer Price Prediction/TrainAndValid.csv', \n",
        "                             low_memory=False,\n",
        "                             parse_dates=['saledate'])\n",
        "\n",
        "# import the test data\n",
        "test_data = pd.read_csv('/content/drive/MyDrive/Colab Notebooks/Bullldozer Price Prediction/Test.csv',\n",
        "                        low_memory=False,\n",
        "                        parse_dates=['saledate'])\n",
        "\n"
      ],
      "execution_count": 8,
      "outputs": []
    },
    {
      "cell_type": "markdown",
      "metadata": {
        "id": "T0L5KSsw6BFu"
      },
      "source": [
        "# Exploratory Data Analysis\n"
      ]
    },
    {
      "cell_type": "markdown",
      "metadata": {
        "id": "6furivj8tVOF"
      },
      "source": [
        "## View the Training data"
      ]
    },
    {
      "cell_type": "code",
      "metadata": {
        "colab": {
          "base_uri": "https://localhost:8080/",
          "height": 360
        },
        "id": "NU4xZ6vttUNW",
        "outputId": "28d982dd-a065-4968-f80a-b8f0f5412546"
      },
      "source": [
        "# view the train and valid dataset\n",
        "bulldozer_data.head(5)"
      ],
      "execution_count": 9,
      "outputs": [
        {
          "output_type": "execute_result",
          "data": {
            "text/html": [
              "<div>\n",
              "<style scoped>\n",
              "    .dataframe tbody tr th:only-of-type {\n",
              "        vertical-align: middle;\n",
              "    }\n",
              "\n",
              "    .dataframe tbody tr th {\n",
              "        vertical-align: top;\n",
              "    }\n",
              "\n",
              "    .dataframe thead th {\n",
              "        text-align: right;\n",
              "    }\n",
              "</style>\n",
              "<table border=\"1\" class=\"dataframe\">\n",
              "  <thead>\n",
              "    <tr style=\"text-align: right;\">\n",
              "      <th></th>\n",
              "      <th>SalesID</th>\n",
              "      <th>SalePrice</th>\n",
              "      <th>MachineID</th>\n",
              "      <th>ModelID</th>\n",
              "      <th>datasource</th>\n",
              "      <th>auctioneerID</th>\n",
              "      <th>YearMade</th>\n",
              "      <th>MachineHoursCurrentMeter</th>\n",
              "      <th>UsageBand</th>\n",
              "      <th>saledate</th>\n",
              "      <th>fiModelDesc</th>\n",
              "      <th>fiBaseModel</th>\n",
              "      <th>fiSecondaryDesc</th>\n",
              "      <th>fiModelSeries</th>\n",
              "      <th>fiModelDescriptor</th>\n",
              "      <th>ProductSize</th>\n",
              "      <th>fiProductClassDesc</th>\n",
              "      <th>state</th>\n",
              "      <th>ProductGroup</th>\n",
              "      <th>ProductGroupDesc</th>\n",
              "      <th>Drive_System</th>\n",
              "      <th>Enclosure</th>\n",
              "      <th>Forks</th>\n",
              "      <th>Pad_Type</th>\n",
              "      <th>Ride_Control</th>\n",
              "      <th>Stick</th>\n",
              "      <th>Transmission</th>\n",
              "      <th>Turbocharged</th>\n",
              "      <th>Blade_Extension</th>\n",
              "      <th>Blade_Width</th>\n",
              "      <th>Enclosure_Type</th>\n",
              "      <th>Engine_Horsepower</th>\n",
              "      <th>Hydraulics</th>\n",
              "      <th>Pushblock</th>\n",
              "      <th>Ripper</th>\n",
              "      <th>Scarifier</th>\n",
              "      <th>Tip_Control</th>\n",
              "      <th>Tire_Size</th>\n",
              "      <th>Coupler</th>\n",
              "      <th>Coupler_System</th>\n",
              "      <th>Grouser_Tracks</th>\n",
              "      <th>Hydraulics_Flow</th>\n",
              "      <th>Track_Type</th>\n",
              "      <th>Undercarriage_Pad_Width</th>\n",
              "      <th>Stick_Length</th>\n",
              "      <th>Thumb</th>\n",
              "      <th>Pattern_Changer</th>\n",
              "      <th>Grouser_Type</th>\n",
              "      <th>Backhoe_Mounting</th>\n",
              "      <th>Blade_Type</th>\n",
              "      <th>Travel_Controls</th>\n",
              "      <th>Differential_Type</th>\n",
              "      <th>Steering_Controls</th>\n",
              "    </tr>\n",
              "  </thead>\n",
              "  <tbody>\n",
              "    <tr>\n",
              "      <th>0</th>\n",
              "      <td>1139246</td>\n",
              "      <td>66000.0</td>\n",
              "      <td>999089</td>\n",
              "      <td>3157</td>\n",
              "      <td>121</td>\n",
              "      <td>3.0</td>\n",
              "      <td>2004</td>\n",
              "      <td>68.0</td>\n",
              "      <td>Low</td>\n",
              "      <td>2006-11-16</td>\n",
              "      <td>521D</td>\n",
              "      <td>521</td>\n",
              "      <td>D</td>\n",
              "      <td>NaN</td>\n",
              "      <td>NaN</td>\n",
              "      <td>NaN</td>\n",
              "      <td>Wheel Loader - 110.0 to 120.0 Horsepower</td>\n",
              "      <td>Alabama</td>\n",
              "      <td>WL</td>\n",
              "      <td>Wheel Loader</td>\n",
              "      <td>NaN</td>\n",
              "      <td>EROPS w AC</td>\n",
              "      <td>None or Unspecified</td>\n",
              "      <td>NaN</td>\n",
              "      <td>None or Unspecified</td>\n",
              "      <td>NaN</td>\n",
              "      <td>NaN</td>\n",
              "      <td>NaN</td>\n",
              "      <td>NaN</td>\n",
              "      <td>NaN</td>\n",
              "      <td>NaN</td>\n",
              "      <td>NaN</td>\n",
              "      <td>2 Valve</td>\n",
              "      <td>NaN</td>\n",
              "      <td>NaN</td>\n",
              "      <td>NaN</td>\n",
              "      <td>NaN</td>\n",
              "      <td>None or Unspecified</td>\n",
              "      <td>None or Unspecified</td>\n",
              "      <td>NaN</td>\n",
              "      <td>NaN</td>\n",
              "      <td>NaN</td>\n",
              "      <td>NaN</td>\n",
              "      <td>NaN</td>\n",
              "      <td>NaN</td>\n",
              "      <td>NaN</td>\n",
              "      <td>NaN</td>\n",
              "      <td>NaN</td>\n",
              "      <td>NaN</td>\n",
              "      <td>NaN</td>\n",
              "      <td>NaN</td>\n",
              "      <td>Standard</td>\n",
              "      <td>Conventional</td>\n",
              "    </tr>\n",
              "    <tr>\n",
              "      <th>1</th>\n",
              "      <td>1139248</td>\n",
              "      <td>57000.0</td>\n",
              "      <td>117657</td>\n",
              "      <td>77</td>\n",
              "      <td>121</td>\n",
              "      <td>3.0</td>\n",
              "      <td>1996</td>\n",
              "      <td>4640.0</td>\n",
              "      <td>Low</td>\n",
              "      <td>2004-03-26</td>\n",
              "      <td>950FII</td>\n",
              "      <td>950</td>\n",
              "      <td>F</td>\n",
              "      <td>II</td>\n",
              "      <td>NaN</td>\n",
              "      <td>Medium</td>\n",
              "      <td>Wheel Loader - 150.0 to 175.0 Horsepower</td>\n",
              "      <td>North Carolina</td>\n",
              "      <td>WL</td>\n",
              "      <td>Wheel Loader</td>\n",
              "      <td>NaN</td>\n",
              "      <td>EROPS w AC</td>\n",
              "      <td>None or Unspecified</td>\n",
              "      <td>NaN</td>\n",
              "      <td>None or Unspecified</td>\n",
              "      <td>NaN</td>\n",
              "      <td>NaN</td>\n",
              "      <td>NaN</td>\n",
              "      <td>NaN</td>\n",
              "      <td>NaN</td>\n",
              "      <td>NaN</td>\n",
              "      <td>NaN</td>\n",
              "      <td>2 Valve</td>\n",
              "      <td>NaN</td>\n",
              "      <td>NaN</td>\n",
              "      <td>NaN</td>\n",
              "      <td>NaN</td>\n",
              "      <td>23.5</td>\n",
              "      <td>None or Unspecified</td>\n",
              "      <td>NaN</td>\n",
              "      <td>NaN</td>\n",
              "      <td>NaN</td>\n",
              "      <td>NaN</td>\n",
              "      <td>NaN</td>\n",
              "      <td>NaN</td>\n",
              "      <td>NaN</td>\n",
              "      <td>NaN</td>\n",
              "      <td>NaN</td>\n",
              "      <td>NaN</td>\n",
              "      <td>NaN</td>\n",
              "      <td>NaN</td>\n",
              "      <td>Standard</td>\n",
              "      <td>Conventional</td>\n",
              "    </tr>\n",
              "    <tr>\n",
              "      <th>2</th>\n",
              "      <td>1139249</td>\n",
              "      <td>10000.0</td>\n",
              "      <td>434808</td>\n",
              "      <td>7009</td>\n",
              "      <td>121</td>\n",
              "      <td>3.0</td>\n",
              "      <td>2001</td>\n",
              "      <td>2838.0</td>\n",
              "      <td>High</td>\n",
              "      <td>2004-02-26</td>\n",
              "      <td>226</td>\n",
              "      <td>226</td>\n",
              "      <td>NaN</td>\n",
              "      <td>NaN</td>\n",
              "      <td>NaN</td>\n",
              "      <td>NaN</td>\n",
              "      <td>Skid Steer Loader - 1351.0 to 1601.0 Lb Operat...</td>\n",
              "      <td>New York</td>\n",
              "      <td>SSL</td>\n",
              "      <td>Skid Steer Loaders</td>\n",
              "      <td>NaN</td>\n",
              "      <td>OROPS</td>\n",
              "      <td>None or Unspecified</td>\n",
              "      <td>NaN</td>\n",
              "      <td>NaN</td>\n",
              "      <td>NaN</td>\n",
              "      <td>NaN</td>\n",
              "      <td>NaN</td>\n",
              "      <td>NaN</td>\n",
              "      <td>NaN</td>\n",
              "      <td>NaN</td>\n",
              "      <td>NaN</td>\n",
              "      <td>Auxiliary</td>\n",
              "      <td>NaN</td>\n",
              "      <td>NaN</td>\n",
              "      <td>NaN</td>\n",
              "      <td>NaN</td>\n",
              "      <td>NaN</td>\n",
              "      <td>None or Unspecified</td>\n",
              "      <td>None or Unspecified</td>\n",
              "      <td>None or Unspecified</td>\n",
              "      <td>Standard</td>\n",
              "      <td>NaN</td>\n",
              "      <td>NaN</td>\n",
              "      <td>NaN</td>\n",
              "      <td>NaN</td>\n",
              "      <td>NaN</td>\n",
              "      <td>NaN</td>\n",
              "      <td>NaN</td>\n",
              "      <td>NaN</td>\n",
              "      <td>NaN</td>\n",
              "      <td>NaN</td>\n",
              "      <td>NaN</td>\n",
              "    </tr>\n",
              "    <tr>\n",
              "      <th>3</th>\n",
              "      <td>1139251</td>\n",
              "      <td>38500.0</td>\n",
              "      <td>1026470</td>\n",
              "      <td>332</td>\n",
              "      <td>121</td>\n",
              "      <td>3.0</td>\n",
              "      <td>2001</td>\n",
              "      <td>3486.0</td>\n",
              "      <td>High</td>\n",
              "      <td>2011-05-19</td>\n",
              "      <td>PC120-6E</td>\n",
              "      <td>PC120</td>\n",
              "      <td>NaN</td>\n",
              "      <td>-6E</td>\n",
              "      <td>NaN</td>\n",
              "      <td>Small</td>\n",
              "      <td>Hydraulic Excavator, Track - 12.0 to 14.0 Metr...</td>\n",
              "      <td>Texas</td>\n",
              "      <td>TEX</td>\n",
              "      <td>Track Excavators</td>\n",
              "      <td>NaN</td>\n",
              "      <td>EROPS w AC</td>\n",
              "      <td>NaN</td>\n",
              "      <td>NaN</td>\n",
              "      <td>NaN</td>\n",
              "      <td>NaN</td>\n",
              "      <td>NaN</td>\n",
              "      <td>NaN</td>\n",
              "      <td>NaN</td>\n",
              "      <td>NaN</td>\n",
              "      <td>NaN</td>\n",
              "      <td>NaN</td>\n",
              "      <td>2 Valve</td>\n",
              "      <td>NaN</td>\n",
              "      <td>NaN</td>\n",
              "      <td>NaN</td>\n",
              "      <td>NaN</td>\n",
              "      <td>NaN</td>\n",
              "      <td>None or Unspecified</td>\n",
              "      <td>NaN</td>\n",
              "      <td>NaN</td>\n",
              "      <td>NaN</td>\n",
              "      <td>NaN</td>\n",
              "      <td>NaN</td>\n",
              "      <td>NaN</td>\n",
              "      <td>NaN</td>\n",
              "      <td>NaN</td>\n",
              "      <td>NaN</td>\n",
              "      <td>NaN</td>\n",
              "      <td>NaN</td>\n",
              "      <td>NaN</td>\n",
              "      <td>NaN</td>\n",
              "      <td>NaN</td>\n",
              "    </tr>\n",
              "    <tr>\n",
              "      <th>4</th>\n",
              "      <td>1139253</td>\n",
              "      <td>11000.0</td>\n",
              "      <td>1057373</td>\n",
              "      <td>17311</td>\n",
              "      <td>121</td>\n",
              "      <td>3.0</td>\n",
              "      <td>2007</td>\n",
              "      <td>722.0</td>\n",
              "      <td>Medium</td>\n",
              "      <td>2009-07-23</td>\n",
              "      <td>S175</td>\n",
              "      <td>S175</td>\n",
              "      <td>NaN</td>\n",
              "      <td>NaN</td>\n",
              "      <td>NaN</td>\n",
              "      <td>NaN</td>\n",
              "      <td>Skid Steer Loader - 1601.0 to 1751.0 Lb Operat...</td>\n",
              "      <td>New York</td>\n",
              "      <td>SSL</td>\n",
              "      <td>Skid Steer Loaders</td>\n",
              "      <td>NaN</td>\n",
              "      <td>EROPS</td>\n",
              "      <td>None or Unspecified</td>\n",
              "      <td>NaN</td>\n",
              "      <td>NaN</td>\n",
              "      <td>NaN</td>\n",
              "      <td>NaN</td>\n",
              "      <td>NaN</td>\n",
              "      <td>NaN</td>\n",
              "      <td>NaN</td>\n",
              "      <td>NaN</td>\n",
              "      <td>NaN</td>\n",
              "      <td>Auxiliary</td>\n",
              "      <td>NaN</td>\n",
              "      <td>NaN</td>\n",
              "      <td>NaN</td>\n",
              "      <td>NaN</td>\n",
              "      <td>NaN</td>\n",
              "      <td>None or Unspecified</td>\n",
              "      <td>None or Unspecified</td>\n",
              "      <td>None or Unspecified</td>\n",
              "      <td>Standard</td>\n",
              "      <td>NaN</td>\n",
              "      <td>NaN</td>\n",
              "      <td>NaN</td>\n",
              "      <td>NaN</td>\n",
              "      <td>NaN</td>\n",
              "      <td>NaN</td>\n",
              "      <td>NaN</td>\n",
              "      <td>NaN</td>\n",
              "      <td>NaN</td>\n",
              "      <td>NaN</td>\n",
              "      <td>NaN</td>\n",
              "    </tr>\n",
              "  </tbody>\n",
              "</table>\n",
              "</div>"
            ],
            "text/plain": [
              "   SalesID  SalePrice  ...  Differential_Type  Steering_Controls\n",
              "0  1139246    66000.0  ...           Standard       Conventional\n",
              "1  1139248    57000.0  ...           Standard       Conventional\n",
              "2  1139249    10000.0  ...                NaN                NaN\n",
              "3  1139251    38500.0  ...                NaN                NaN\n",
              "4  1139253    11000.0  ...                NaN                NaN\n",
              "\n",
              "[5 rows x 53 columns]"
            ]
          },
          "metadata": {
            "tags": []
          },
          "execution_count": 9
        }
      ]
    },
    {
      "cell_type": "code",
      "metadata": {
        "colab": {
          "base_uri": "https://localhost:8080/"
        },
        "id": "Oe55HFn4t5d2",
        "outputId": "4e6d461c-bae8-4653-eab4-077242872df8"
      },
      "source": [
        "# find the columns in test-valid data-set\n",
        "bulldozer_data.columns"
      ],
      "execution_count": 10,
      "outputs": [
        {
          "output_type": "execute_result",
          "data": {
            "text/plain": [
              "Index(['SalesID', 'SalePrice', 'MachineID', 'ModelID', 'datasource',\n",
              "       'auctioneerID', 'YearMade', 'MachineHoursCurrentMeter', 'UsageBand',\n",
              "       'saledate', 'fiModelDesc', 'fiBaseModel', 'fiSecondaryDesc',\n",
              "       'fiModelSeries', 'fiModelDescriptor', 'ProductSize',\n",
              "       'fiProductClassDesc', 'state', 'ProductGroup', 'ProductGroupDesc',\n",
              "       'Drive_System', 'Enclosure', 'Forks', 'Pad_Type', 'Ride_Control',\n",
              "       'Stick', 'Transmission', 'Turbocharged', 'Blade_Extension',\n",
              "       'Blade_Width', 'Enclosure_Type', 'Engine_Horsepower', 'Hydraulics',\n",
              "       'Pushblock', 'Ripper', 'Scarifier', 'Tip_Control', 'Tire_Size',\n",
              "       'Coupler', 'Coupler_System', 'Grouser_Tracks', 'Hydraulics_Flow',\n",
              "       'Track_Type', 'Undercarriage_Pad_Width', 'Stick_Length', 'Thumb',\n",
              "       'Pattern_Changer', 'Grouser_Type', 'Backhoe_Mounting', 'Blade_Type',\n",
              "       'Travel_Controls', 'Differential_Type', 'Steering_Controls'],\n",
              "      dtype='object')"
            ]
          },
          "metadata": {
            "tags": []
          },
          "execution_count": 10
        }
      ]
    },
    {
      "cell_type": "markdown",
      "metadata": {
        "id": "K7-l6V7mlVDE"
      },
      "source": [
        "## Check of unique values in Train - Valid set"
      ]
    },
    {
      "cell_type": "code",
      "metadata": {
        "colab": {
          "base_uri": "https://localhost:8080/"
        },
        "id": "P_2ONCItlfl_",
        "outputId": "3a16f434-755e-4d58-b6c8-ab6a969177d1"
      },
      "source": [
        "# Count distinct observations\n",
        "for col in bulldozer_data.columns:\n",
        "  print(col,\" has {0} unique values , dtype is {1}\".format(bulldozer_data[col].nunique(), bulldozer_data[col].dtype))\n",
        "print('Total number of columns',len(bulldozer_data.columns))"
      ],
      "execution_count": 11,
      "outputs": [
        {
          "output_type": "stream",
          "text": [
            "SalesID  has 412698 unique values , dtype is int64\n",
            "SalePrice  has 954 unique values , dtype is float64\n",
            "MachineID  has 348808 unique values , dtype is int64\n",
            "ModelID  has 5281 unique values , dtype is int64\n",
            "datasource  has 6 unique values , dtype is int64\n",
            "auctioneerID  has 30 unique values , dtype is float64\n",
            "YearMade  has 73 unique values , dtype is int64\n",
            "MachineHoursCurrentMeter  has 15633 unique values , dtype is float64\n",
            "UsageBand  has 3 unique values , dtype is object\n",
            "saledate  has 4013 unique values , dtype is datetime64[ns]\n",
            "fiModelDesc  has 5059 unique values , dtype is object\n",
            "fiBaseModel  has 1961 unique values , dtype is object\n",
            "fiSecondaryDesc  has 177 unique values , dtype is object\n",
            "fiModelSeries  has 123 unique values , dtype is object\n",
            "fiModelDescriptor  has 140 unique values , dtype is object\n",
            "ProductSize  has 6 unique values , dtype is object\n",
            "fiProductClassDesc  has 74 unique values , dtype is object\n",
            "state  has 53 unique values , dtype is object\n",
            "ProductGroup  has 6 unique values , dtype is object\n",
            "ProductGroupDesc  has 6 unique values , dtype is object\n",
            "Drive_System  has 4 unique values , dtype is object\n",
            "Enclosure  has 6 unique values , dtype is object\n",
            "Forks  has 2 unique values , dtype is object\n",
            "Pad_Type  has 4 unique values , dtype is object\n",
            "Ride_Control  has 3 unique values , dtype is object\n",
            "Stick  has 2 unique values , dtype is object\n",
            "Transmission  has 8 unique values , dtype is object\n",
            "Turbocharged  has 2 unique values , dtype is object\n",
            "Blade_Extension  has 2 unique values , dtype is object\n",
            "Blade_Width  has 6 unique values , dtype is object\n",
            "Enclosure_Type  has 3 unique values , dtype is object\n",
            "Engine_Horsepower  has 2 unique values , dtype is object\n",
            "Hydraulics  has 12 unique values , dtype is object\n",
            "Pushblock  has 2 unique values , dtype is object\n",
            "Ripper  has 4 unique values , dtype is object\n",
            "Scarifier  has 2 unique values , dtype is object\n",
            "Tip_Control  has 3 unique values , dtype is object\n",
            "Tire_Size  has 17 unique values , dtype is object\n",
            "Coupler  has 3 unique values , dtype is object\n",
            "Coupler_System  has 2 unique values , dtype is object\n",
            "Grouser_Tracks  has 2 unique values , dtype is object\n",
            "Hydraulics_Flow  has 3 unique values , dtype is object\n",
            "Track_Type  has 2 unique values , dtype is object\n",
            "Undercarriage_Pad_Width  has 19 unique values , dtype is object\n",
            "Stick_Length  has 29 unique values , dtype is object\n",
            "Thumb  has 3 unique values , dtype is object\n",
            "Pattern_Changer  has 3 unique values , dtype is object\n",
            "Grouser_Type  has 3 unique values , dtype is object\n",
            "Backhoe_Mounting  has 2 unique values , dtype is object\n",
            "Blade_Type  has 10 unique values , dtype is object\n",
            "Travel_Controls  has 7 unique values , dtype is object\n",
            "Differential_Type  has 4 unique values , dtype is object\n",
            "Steering_Controls  has 5 unique values , dtype is object\n",
            "Total number of columns 53\n"
          ],
          "name": "stdout"
        }
      ]
    },
    {
      "cell_type": "markdown",
      "metadata": {
        "id": "_aWTjnhiteot"
      },
      "source": [
        "## View the Test data"
      ]
    },
    {
      "cell_type": "code",
      "metadata": {
        "colab": {
          "base_uri": "https://localhost:8080/",
          "height": 377
        },
        "id": "I4-mn0RDtjn6",
        "outputId": "cd4f1d88-ee70-4427-a874-0ff3ef668c87"
      },
      "source": [
        "test_data.head()"
      ],
      "execution_count": 12,
      "outputs": [
        {
          "output_type": "execute_result",
          "data": {
            "text/html": [
              "<div>\n",
              "<style scoped>\n",
              "    .dataframe tbody tr th:only-of-type {\n",
              "        vertical-align: middle;\n",
              "    }\n",
              "\n",
              "    .dataframe tbody tr th {\n",
              "        vertical-align: top;\n",
              "    }\n",
              "\n",
              "    .dataframe thead th {\n",
              "        text-align: right;\n",
              "    }\n",
              "</style>\n",
              "<table border=\"1\" class=\"dataframe\">\n",
              "  <thead>\n",
              "    <tr style=\"text-align: right;\">\n",
              "      <th></th>\n",
              "      <th>SalesID</th>\n",
              "      <th>MachineID</th>\n",
              "      <th>ModelID</th>\n",
              "      <th>datasource</th>\n",
              "      <th>auctioneerID</th>\n",
              "      <th>YearMade</th>\n",
              "      <th>MachineHoursCurrentMeter</th>\n",
              "      <th>UsageBand</th>\n",
              "      <th>saledate</th>\n",
              "      <th>fiModelDesc</th>\n",
              "      <th>fiBaseModel</th>\n",
              "      <th>fiSecondaryDesc</th>\n",
              "      <th>fiModelSeries</th>\n",
              "      <th>fiModelDescriptor</th>\n",
              "      <th>ProductSize</th>\n",
              "      <th>fiProductClassDesc</th>\n",
              "      <th>state</th>\n",
              "      <th>ProductGroup</th>\n",
              "      <th>ProductGroupDesc</th>\n",
              "      <th>Drive_System</th>\n",
              "      <th>Enclosure</th>\n",
              "      <th>Forks</th>\n",
              "      <th>Pad_Type</th>\n",
              "      <th>Ride_Control</th>\n",
              "      <th>Stick</th>\n",
              "      <th>Transmission</th>\n",
              "      <th>Turbocharged</th>\n",
              "      <th>Blade_Extension</th>\n",
              "      <th>Blade_Width</th>\n",
              "      <th>Enclosure_Type</th>\n",
              "      <th>Engine_Horsepower</th>\n",
              "      <th>Hydraulics</th>\n",
              "      <th>Pushblock</th>\n",
              "      <th>Ripper</th>\n",
              "      <th>Scarifier</th>\n",
              "      <th>Tip_Control</th>\n",
              "      <th>Tire_Size</th>\n",
              "      <th>Coupler</th>\n",
              "      <th>Coupler_System</th>\n",
              "      <th>Grouser_Tracks</th>\n",
              "      <th>Hydraulics_Flow</th>\n",
              "      <th>Track_Type</th>\n",
              "      <th>Undercarriage_Pad_Width</th>\n",
              "      <th>Stick_Length</th>\n",
              "      <th>Thumb</th>\n",
              "      <th>Pattern_Changer</th>\n",
              "      <th>Grouser_Type</th>\n",
              "      <th>Backhoe_Mounting</th>\n",
              "      <th>Blade_Type</th>\n",
              "      <th>Travel_Controls</th>\n",
              "      <th>Differential_Type</th>\n",
              "      <th>Steering_Controls</th>\n",
              "    </tr>\n",
              "  </thead>\n",
              "  <tbody>\n",
              "    <tr>\n",
              "      <th>0</th>\n",
              "      <td>1227829</td>\n",
              "      <td>1006309</td>\n",
              "      <td>3168</td>\n",
              "      <td>121</td>\n",
              "      <td>3</td>\n",
              "      <td>1999</td>\n",
              "      <td>3688.0</td>\n",
              "      <td>Low</td>\n",
              "      <td>2012-05-03</td>\n",
              "      <td>580G</td>\n",
              "      <td>580</td>\n",
              "      <td>G</td>\n",
              "      <td>NaN</td>\n",
              "      <td>NaN</td>\n",
              "      <td>NaN</td>\n",
              "      <td>Backhoe Loader - 14.0 to 15.0 Ft Standard Digg...</td>\n",
              "      <td>Wyoming</td>\n",
              "      <td>BL</td>\n",
              "      <td>Backhoe Loaders</td>\n",
              "      <td>Two Wheel Drive</td>\n",
              "      <td>OROPS</td>\n",
              "      <td>Yes</td>\n",
              "      <td>None or Unspecified</td>\n",
              "      <td>No</td>\n",
              "      <td>Standard</td>\n",
              "      <td>Standard</td>\n",
              "      <td>None or Unspecified</td>\n",
              "      <td>NaN</td>\n",
              "      <td>NaN</td>\n",
              "      <td>NaN</td>\n",
              "      <td>NaN</td>\n",
              "      <td>NaN</td>\n",
              "      <td>NaN</td>\n",
              "      <td>NaN</td>\n",
              "      <td>NaN</td>\n",
              "      <td>NaN</td>\n",
              "      <td>NaN</td>\n",
              "      <td>NaN</td>\n",
              "      <td>NaN</td>\n",
              "      <td>NaN</td>\n",
              "      <td>NaN</td>\n",
              "      <td>NaN</td>\n",
              "      <td>NaN</td>\n",
              "      <td>NaN</td>\n",
              "      <td>NaN</td>\n",
              "      <td>NaN</td>\n",
              "      <td>NaN</td>\n",
              "      <td>NaN</td>\n",
              "      <td>NaN</td>\n",
              "      <td>NaN</td>\n",
              "      <td>NaN</td>\n",
              "      <td>NaN</td>\n",
              "    </tr>\n",
              "    <tr>\n",
              "      <th>1</th>\n",
              "      <td>1227844</td>\n",
              "      <td>1022817</td>\n",
              "      <td>7271</td>\n",
              "      <td>121</td>\n",
              "      <td>3</td>\n",
              "      <td>1000</td>\n",
              "      <td>28555.0</td>\n",
              "      <td>High</td>\n",
              "      <td>2012-05-10</td>\n",
              "      <td>936</td>\n",
              "      <td>936</td>\n",
              "      <td>NaN</td>\n",
              "      <td>NaN</td>\n",
              "      <td>NaN</td>\n",
              "      <td>Medium</td>\n",
              "      <td>Wheel Loader - 135.0 to 150.0 Horsepower</td>\n",
              "      <td>Virginia</td>\n",
              "      <td>WL</td>\n",
              "      <td>Wheel Loader</td>\n",
              "      <td>NaN</td>\n",
              "      <td>EROPS</td>\n",
              "      <td>Yes</td>\n",
              "      <td>NaN</td>\n",
              "      <td>None or Unspecified</td>\n",
              "      <td>NaN</td>\n",
              "      <td>NaN</td>\n",
              "      <td>NaN</td>\n",
              "      <td>NaN</td>\n",
              "      <td>NaN</td>\n",
              "      <td>NaN</td>\n",
              "      <td>NaN</td>\n",
              "      <td>2 Valve</td>\n",
              "      <td>NaN</td>\n",
              "      <td>NaN</td>\n",
              "      <td>NaN</td>\n",
              "      <td>NaN</td>\n",
              "      <td>20.5</td>\n",
              "      <td>None or Unspecified</td>\n",
              "      <td>NaN</td>\n",
              "      <td>NaN</td>\n",
              "      <td>NaN</td>\n",
              "      <td>NaN</td>\n",
              "      <td>NaN</td>\n",
              "      <td>NaN</td>\n",
              "      <td>NaN</td>\n",
              "      <td>NaN</td>\n",
              "      <td>NaN</td>\n",
              "      <td>NaN</td>\n",
              "      <td>NaN</td>\n",
              "      <td>NaN</td>\n",
              "      <td>Standard</td>\n",
              "      <td>Conventional</td>\n",
              "    </tr>\n",
              "    <tr>\n",
              "      <th>2</th>\n",
              "      <td>1227847</td>\n",
              "      <td>1031560</td>\n",
              "      <td>22805</td>\n",
              "      <td>121</td>\n",
              "      <td>3</td>\n",
              "      <td>2004</td>\n",
              "      <td>6038.0</td>\n",
              "      <td>Medium</td>\n",
              "      <td>2012-05-10</td>\n",
              "      <td>EC210BLC</td>\n",
              "      <td>EC210</td>\n",
              "      <td>B</td>\n",
              "      <td>NaN</td>\n",
              "      <td>LC</td>\n",
              "      <td>Large / Medium</td>\n",
              "      <td>Hydraulic Excavator, Track - 21.0 to 24.0 Metr...</td>\n",
              "      <td>New Jersey</td>\n",
              "      <td>TEX</td>\n",
              "      <td>Track Excavators</td>\n",
              "      <td>NaN</td>\n",
              "      <td>EROPS w AC</td>\n",
              "      <td>NaN</td>\n",
              "      <td>NaN</td>\n",
              "      <td>NaN</td>\n",
              "      <td>NaN</td>\n",
              "      <td>NaN</td>\n",
              "      <td>NaN</td>\n",
              "      <td>NaN</td>\n",
              "      <td>NaN</td>\n",
              "      <td>NaN</td>\n",
              "      <td>NaN</td>\n",
              "      <td>Auxiliary</td>\n",
              "      <td>NaN</td>\n",
              "      <td>NaN</td>\n",
              "      <td>NaN</td>\n",
              "      <td>NaN</td>\n",
              "      <td>NaN</td>\n",
              "      <td>None or Unspecified</td>\n",
              "      <td>NaN</td>\n",
              "      <td>NaN</td>\n",
              "      <td>NaN</td>\n",
              "      <td>Steel</td>\n",
              "      <td>None or Unspecified</td>\n",
              "      <td>9' 6\"</td>\n",
              "      <td>Manual</td>\n",
              "      <td>None or Unspecified</td>\n",
              "      <td>Double</td>\n",
              "      <td>NaN</td>\n",
              "      <td>NaN</td>\n",
              "      <td>NaN</td>\n",
              "      <td>NaN</td>\n",
              "      <td>NaN</td>\n",
              "    </tr>\n",
              "    <tr>\n",
              "      <th>3</th>\n",
              "      <td>1227848</td>\n",
              "      <td>56204</td>\n",
              "      <td>1269</td>\n",
              "      <td>121</td>\n",
              "      <td>3</td>\n",
              "      <td>2006</td>\n",
              "      <td>8940.0</td>\n",
              "      <td>High</td>\n",
              "      <td>2012-05-10</td>\n",
              "      <td>330CL</td>\n",
              "      <td>330</td>\n",
              "      <td>C</td>\n",
              "      <td>NaN</td>\n",
              "      <td>L</td>\n",
              "      <td>Large / Medium</td>\n",
              "      <td>Hydraulic Excavator, Track - 33.0 to 40.0 Metr...</td>\n",
              "      <td>New Jersey</td>\n",
              "      <td>TEX</td>\n",
              "      <td>Track Excavators</td>\n",
              "      <td>NaN</td>\n",
              "      <td>EROPS w AC</td>\n",
              "      <td>NaN</td>\n",
              "      <td>NaN</td>\n",
              "      <td>NaN</td>\n",
              "      <td>NaN</td>\n",
              "      <td>NaN</td>\n",
              "      <td>NaN</td>\n",
              "      <td>NaN</td>\n",
              "      <td>NaN</td>\n",
              "      <td>NaN</td>\n",
              "      <td>NaN</td>\n",
              "      <td>Standard</td>\n",
              "      <td>NaN</td>\n",
              "      <td>NaN</td>\n",
              "      <td>NaN</td>\n",
              "      <td>NaN</td>\n",
              "      <td>NaN</td>\n",
              "      <td>None or Unspecified</td>\n",
              "      <td>NaN</td>\n",
              "      <td>NaN</td>\n",
              "      <td>NaN</td>\n",
              "      <td>Steel</td>\n",
              "      <td>None or Unspecified</td>\n",
              "      <td>None or Unspecified</td>\n",
              "      <td>Manual</td>\n",
              "      <td>Yes</td>\n",
              "      <td>Triple</td>\n",
              "      <td>NaN</td>\n",
              "      <td>NaN</td>\n",
              "      <td>NaN</td>\n",
              "      <td>NaN</td>\n",
              "      <td>NaN</td>\n",
              "    </tr>\n",
              "    <tr>\n",
              "      <th>4</th>\n",
              "      <td>1227863</td>\n",
              "      <td>1053887</td>\n",
              "      <td>22312</td>\n",
              "      <td>121</td>\n",
              "      <td>3</td>\n",
              "      <td>2005</td>\n",
              "      <td>2286.0</td>\n",
              "      <td>Low</td>\n",
              "      <td>2012-05-10</td>\n",
              "      <td>650K</td>\n",
              "      <td>650</td>\n",
              "      <td>K</td>\n",
              "      <td>NaN</td>\n",
              "      <td>NaN</td>\n",
              "      <td>NaN</td>\n",
              "      <td>Track Type Tractor, Dozer - 20.0 to 75.0 Horse...</td>\n",
              "      <td>Florida</td>\n",
              "      <td>TTT</td>\n",
              "      <td>Track Type Tractors</td>\n",
              "      <td>NaN</td>\n",
              "      <td>OROPS</td>\n",
              "      <td>NaN</td>\n",
              "      <td>NaN</td>\n",
              "      <td>NaN</td>\n",
              "      <td>NaN</td>\n",
              "      <td>Hydrostatic</td>\n",
              "      <td>NaN</td>\n",
              "      <td>NaN</td>\n",
              "      <td>NaN</td>\n",
              "      <td>NaN</td>\n",
              "      <td>NaN</td>\n",
              "      <td>2 Valve</td>\n",
              "      <td>NaN</td>\n",
              "      <td>None or Unspecified</td>\n",
              "      <td>NaN</td>\n",
              "      <td>NaN</td>\n",
              "      <td>NaN</td>\n",
              "      <td>NaN</td>\n",
              "      <td>NaN</td>\n",
              "      <td>NaN</td>\n",
              "      <td>NaN</td>\n",
              "      <td>NaN</td>\n",
              "      <td>NaN</td>\n",
              "      <td>NaN</td>\n",
              "      <td>NaN</td>\n",
              "      <td>NaN</td>\n",
              "      <td>NaN</td>\n",
              "      <td>None or Unspecified</td>\n",
              "      <td>PAT</td>\n",
              "      <td>None or Unspecified</td>\n",
              "      <td>NaN</td>\n",
              "      <td>NaN</td>\n",
              "    </tr>\n",
              "  </tbody>\n",
              "</table>\n",
              "</div>"
            ],
            "text/plain": [
              "   SalesID  MachineID  ...  Differential_Type  Steering_Controls\n",
              "0  1227829    1006309  ...                NaN                NaN\n",
              "1  1227844    1022817  ...           Standard       Conventional\n",
              "2  1227847    1031560  ...                NaN                NaN\n",
              "3  1227848      56204  ...                NaN                NaN\n",
              "4  1227863    1053887  ...                NaN                NaN\n",
              "\n",
              "[5 rows x 52 columns]"
            ]
          },
          "metadata": {
            "tags": []
          },
          "execution_count": 12
        }
      ]
    },
    {
      "cell_type": "code",
      "metadata": {
        "colab": {
          "base_uri": "https://localhost:8080/"
        },
        "id": "P3hf95hetr_w",
        "outputId": "5fd77d03-1129-4954-e75a-5bb1c6a6ef12"
      },
      "source": [
        "# check the columns of test dataset\n",
        "test_data.columns"
      ],
      "execution_count": 13,
      "outputs": [
        {
          "output_type": "execute_result",
          "data": {
            "text/plain": [
              "Index(['SalesID', 'MachineID', 'ModelID', 'datasource', 'auctioneerID',\n",
              "       'YearMade', 'MachineHoursCurrentMeter', 'UsageBand', 'saledate',\n",
              "       'fiModelDesc', 'fiBaseModel', 'fiSecondaryDesc', 'fiModelSeries',\n",
              "       'fiModelDescriptor', 'ProductSize', 'fiProductClassDesc', 'state',\n",
              "       'ProductGroup', 'ProductGroupDesc', 'Drive_System', 'Enclosure',\n",
              "       'Forks', 'Pad_Type', 'Ride_Control', 'Stick', 'Transmission',\n",
              "       'Turbocharged', 'Blade_Extension', 'Blade_Width', 'Enclosure_Type',\n",
              "       'Engine_Horsepower', 'Hydraulics', 'Pushblock', 'Ripper', 'Scarifier',\n",
              "       'Tip_Control', 'Tire_Size', 'Coupler', 'Coupler_System',\n",
              "       'Grouser_Tracks', 'Hydraulics_Flow', 'Track_Type',\n",
              "       'Undercarriage_Pad_Width', 'Stick_Length', 'Thumb', 'Pattern_Changer',\n",
              "       'Grouser_Type', 'Backhoe_Mounting', 'Blade_Type', 'Travel_Controls',\n",
              "       'Differential_Type', 'Steering_Controls'],\n",
              "      dtype='object')"
            ]
          },
          "metadata": {
            "tags": []
          },
          "execution_count": 13
        }
      ]
    },
    {
      "cell_type": "markdown",
      "metadata": {
        "id": "e94tVk8UorlJ"
      },
      "source": [
        "## Check the unique values in Test set"
      ]
    },
    {
      "cell_type": "code",
      "metadata": {
        "colab": {
          "base_uri": "https://localhost:8080/"
        },
        "id": "Syf5kWHwoxnD",
        "outputId": "d2eb892a-e360-4580-8593-6c74549d8b7d"
      },
      "source": [
        "# Count distinct observations\n",
        "for col in test_data.columns:\n",
        "  print(col,\" has {0} unique values , dtype is {1}\".format(test_data[col].nunique(), test_data[col].dtype))\n",
        "print('Total number of columns',len(test_data.columns))"
      ],
      "execution_count": 14,
      "outputs": [
        {
          "output_type": "stream",
          "text": [
            "SalesID  has 12457 unique values , dtype is int64\n",
            "MachineID  has 11624 unique values , dtype is int64\n",
            "ModelID  has 1984 unique values , dtype is int64\n",
            "datasource  has 3 unique values , dtype is int64\n",
            "auctioneerID  has 14 unique values , dtype is int64\n",
            "YearMade  has 57 unique values , dtype is int64\n",
            "MachineHoursCurrentMeter  has 1513 unique values , dtype is float64\n",
            "UsageBand  has 3 unique values , dtype is object\n",
            "saledate  has 144 unique values , dtype is datetime64[ns]\n",
            "fiModelDesc  has 1941 unique values , dtype is object\n",
            "fiBaseModel  has 831 unique values , dtype is object\n",
            "fiSecondaryDesc  has 82 unique values , dtype is object\n",
            "fiModelSeries  has 63 unique values , dtype is object\n",
            "fiModelDescriptor  has 74 unique values , dtype is object\n",
            "ProductSize  has 6 unique values , dtype is object\n",
            "fiProductClassDesc  has 70 unique values , dtype is object\n",
            "state  has 51 unique values , dtype is object\n",
            "ProductGroup  has 6 unique values , dtype is object\n",
            "ProductGroupDesc  has 6 unique values , dtype is object\n",
            "Drive_System  has 4 unique values , dtype is object\n",
            "Enclosure  has 3 unique values , dtype is object\n",
            "Forks  has 2 unique values , dtype is object\n",
            "Pad_Type  has 4 unique values , dtype is object\n",
            "Ride_Control  has 3 unique values , dtype is object\n",
            "Stick  has 2 unique values , dtype is object\n",
            "Transmission  has 7 unique values , dtype is object\n",
            "Turbocharged  has 2 unique values , dtype is object\n",
            "Blade_Extension  has 2 unique values , dtype is object\n",
            "Blade_Width  has 6 unique values , dtype is object\n",
            "Enclosure_Type  has 3 unique values , dtype is object\n",
            "Engine_Horsepower  has 2 unique values , dtype is object\n",
            "Hydraulics  has 11 unique values , dtype is object\n",
            "Pushblock  has 2 unique values , dtype is object\n",
            "Ripper  has 4 unique values , dtype is object\n",
            "Scarifier  has 2 unique values , dtype is object\n",
            "Tip_Control  has 3 unique values , dtype is object\n",
            "Tire_Size  has 13 unique values , dtype is object\n",
            "Coupler  has 3 unique values , dtype is object\n",
            "Coupler_System  has 2 unique values , dtype is object\n",
            "Grouser_Tracks  has 2 unique values , dtype is object\n",
            "Hydraulics_Flow  has 3 unique values , dtype is object\n",
            "Track_Type  has 2 unique values , dtype is object\n",
            "Undercarriage_Pad_Width  has 17 unique values , dtype is object\n",
            "Stick_Length  has 20 unique values , dtype is object\n",
            "Thumb  has 3 unique values , dtype is object\n",
            "Pattern_Changer  has 2 unique values , dtype is object\n",
            "Grouser_Type  has 2 unique values , dtype is object\n",
            "Backhoe_Mounting  has 1 unique values , dtype is object\n",
            "Blade_Type  has 8 unique values , dtype is object\n",
            "Travel_Controls  has 6 unique values , dtype is object\n",
            "Differential_Type  has 3 unique values , dtype is object\n",
            "Steering_Controls  has 3 unique values , dtype is object\n",
            "Total number of columns 52\n"
          ],
          "name": "stdout"
        }
      ]
    },
    {
      "cell_type": "markdown",
      "metadata": {
        "id": "-NnCH17x6Vnj"
      },
      "source": [
        "## Check for missing values in Train-Valid set\n",
        "\n"
      ]
    },
    {
      "cell_type": "code",
      "metadata": {
        "colab": {
          "base_uri": "https://localhost:8080/"
        },
        "id": "VP2585364e_h",
        "outputId": "a708a056-3204-4fd7-d576-119ce679c41b"
      },
      "source": [
        "# check for missing values \n",
        "bulldozer_data.isna().sum()"
      ],
      "execution_count": 15,
      "outputs": [
        {
          "output_type": "execute_result",
          "data": {
            "text/plain": [
              "SalesID                          0\n",
              "SalePrice                        0\n",
              "MachineID                        0\n",
              "ModelID                          0\n",
              "datasource                       0\n",
              "auctioneerID                 20136\n",
              "YearMade                         0\n",
              "MachineHoursCurrentMeter    265194\n",
              "UsageBand                   339028\n",
              "saledate                         0\n",
              "fiModelDesc                      0\n",
              "fiBaseModel                      0\n",
              "fiSecondaryDesc             140727\n",
              "fiModelSeries               354031\n",
              "fiModelDescriptor           337882\n",
              "ProductSize                 216605\n",
              "fiProductClassDesc               0\n",
              "state                            0\n",
              "ProductGroup                     0\n",
              "ProductGroupDesc                 0\n",
              "Drive_System                305611\n",
              "Enclosure                      334\n",
              "Forks                       214983\n",
              "Pad_Type                    331602\n",
              "Ride_Control                259970\n",
              "Stick                       331602\n",
              "Transmission                224691\n",
              "Turbocharged                331602\n",
              "Blade_Extension             386715\n",
              "Blade_Width                 386715\n",
              "Enclosure_Type              386715\n",
              "Engine_Horsepower           386715\n",
              "Hydraulics                   82565\n",
              "Pushblock                   386715\n",
              "Ripper                      305753\n",
              "Scarifier                   386704\n",
              "Tip_Control                 386715\n",
              "Tire_Size                   315060\n",
              "Coupler                     192019\n",
              "Coupler_System              367724\n",
              "Grouser_Tracks              367823\n",
              "Hydraulics_Flow             367823\n",
              "Track_Type                  310505\n",
              "Undercarriage_Pad_Width     309782\n",
              "Stick_Length                310437\n",
              "Thumb                       310366\n",
              "Pattern_Changer             310437\n",
              "Grouser_Type                310505\n",
              "Backhoe_Mounting            331986\n",
              "Blade_Type                  330823\n",
              "Travel_Controls             330821\n",
              "Differential_Type           341134\n",
              "Steering_Controls           341176\n",
              "dtype: int64"
            ]
          },
          "metadata": {
            "tags": []
          },
          "execution_count": 15
        }
      ]
    },
    {
      "cell_type": "code",
      "metadata": {
        "colab": {
          "base_uri": "https://localhost:8080/",
          "height": 477
        },
        "id": "g_uNOmCl6fyQ",
        "outputId": "dd91ac44-0871-4c72-e477-96bc18b9ffa3"
      },
      "source": [
        "# check the precentage of missing values\n",
        "# bulldozer_data.isna().sum() / len(bulldozer_data)\n",
        "plt.figure(figsize=(15,5))\n",
        "plt.bar(bulldozer_data.columns, bulldozer_data.isna().sum() / len(bulldozer_data))\n",
        "plt.xticks(ticks=range(len(bulldozer_data.columns)),\n",
        "           labels=bulldozer_data.columns,\n",
        "           rotation=90)\n",
        "plt.title('Percentage of missing values')\n",
        "plt.xlabel('Features')\n",
        "plt.ylabel('Precentage')\n",
        "plt.show()"
      ],
      "execution_count": 16,
      "outputs": [
        {
          "output_type": "display_data",
          "data": {
            "image/png": "[encoded data removed]",
            "text/plain": [
              "<Figure size 1080x360 with 1 Axes>"
            ]
          },
          "metadata": {
            "tags": [],
            "needs_background": "light"
          }
        }
      ]
    },
    {
      "cell_type": "markdown",
      "metadata": {
        "id": "tP2isn_3_Hn8"
      },
      "source": [
        "## Check the data-types of each column"
      ]
    },
    {
      "cell_type": "code",
      "metadata": {
        "colab": {
          "base_uri": "https://localhost:8080/"
        },
        "id": "ZqOHWuJm-6nZ",
        "outputId": "05aee4b6-eca0-48bb-8f05-91f3d507bf11"
      },
      "source": [
        "bulldozer_data.info()"
      ],
      "execution_count": 17,
      "outputs": [
        {
          "output_type": "stream",
          "text": [
            "<class 'pandas.core.frame.DataFrame'>\n",
            "RangeIndex: 412698 entries, 0 to 412697\n",
            "Data columns (total 53 columns):\n",
            " #   Column                    Non-Null Count   Dtype         \n",
            "---  ------                    --------------   -----         \n",
            " 0   SalesID                   412698 non-null  int64         \n",
            " 1   SalePrice                 412698 non-null  float64       \n",
            " 2   MachineID                 412698 non-null  int64         \n",
            " 3   ModelID                   412698 non-null  int64         \n",
            " 4   datasource                412698 non-null  int64         \n",
            " 5   auctioneerID              392562 non-null  float64       \n",
            " 6   YearMade                  412698 non-null  int64         \n",
            " 7   MachineHoursCurrentMeter  147504 non-null  float64       \n",
            " 8   UsageBand                 73670 non-null   object        \n",
            " 9   saledate                  412698 non-null  datetime64[ns]\n",
            " 10  fiModelDesc               412698 non-null  object        \n",
            " 11  fiBaseModel               412698 non-null  object        \n",
            " 12  fiSecondaryDesc           271971 non-null  object        \n",
            " 13  fiModelSeries             58667 non-null   object        \n",
            " 14  fiModelDescriptor         74816 non-null   object        \n",
            " 15  ProductSize               196093 non-null  object        \n",
            " 16  fiProductClassDesc        412698 non-null  object        \n",
            " 17  state                     412698 non-null  object        \n",
            " 18  ProductGroup              412698 non-null  object        \n",
            " 19  ProductGroupDesc          412698 non-null  object        \n",
            " 20  Drive_System              107087 non-null  object        \n",
            " 21  Enclosure                 412364 non-null  object        \n",
            " 22  Forks                     197715 non-null  object        \n",
            " 23  Pad_Type                  81096 non-null   object        \n",
            " 24  Ride_Control              152728 non-null  object        \n",
            " 25  Stick                     81096 non-null   object        \n",
            " 26  Transmission              188007 non-null  object        \n",
            " 27  Turbocharged              81096 non-null   object        \n",
            " 28  Blade_Extension           25983 non-null   object        \n",
            " 29  Blade_Width               25983 non-null   object        \n",
            " 30  Enclosure_Type            25983 non-null   object        \n",
            " 31  Engine_Horsepower         25983 non-null   object        \n",
            " 32  Hydraulics                330133 non-null  object        \n",
            " 33  Pushblock                 25983 non-null   object        \n",
            " 34  Ripper                    106945 non-null  object        \n",
            " 35  Scarifier                 25994 non-null   object        \n",
            " 36  Tip_Control               25983 non-null   object        \n",
            " 37  Tire_Size                 97638 non-null   object        \n",
            " 38  Coupler                   220679 non-null  object        \n",
            " 39  Coupler_System            44974 non-null   object        \n",
            " 40  Grouser_Tracks            44875 non-null   object        \n",
            " 41  Hydraulics_Flow           44875 non-null   object        \n",
            " 42  Track_Type                102193 non-null  object        \n",
            " 43  Undercarriage_Pad_Width   102916 non-null  object        \n",
            " 44  Stick_Length              102261 non-null  object        \n",
            " 45  Thumb                     102332 non-null  object        \n",
            " 46  Pattern_Changer           102261 non-null  object        \n",
            " 47  Grouser_Type              102193 non-null  object        \n",
            " 48  Backhoe_Mounting          80712 non-null   object        \n",
            " 49  Blade_Type                81875 non-null   object        \n",
            " 50  Travel_Controls           81877 non-null   object        \n",
            " 51  Differential_Type         71564 non-null   object        \n",
            " 52  Steering_Controls         71522 non-null   object        \n",
            "dtypes: datetime64[ns](1), float64(3), int64(5), object(44)\n",
            "memory usage: 166.9+ MB\n"
          ],
          "name": "stdout"
        }
      ]
    },
    {
      "cell_type": "markdown",
      "metadata": {
        "id": "UyTQHUw1-aHT"
      },
      "source": [
        "# Preprocessing the whole dataset\n",
        "\n",
        "Goal of machine learning: use the past to predict the future.\n",
        "\n",
        "* Encode/transform all categorical variables of your data (on the entire dataset, this ensures categorical variables are encoded the same across Training/Validation/Test sets\n",
        "\n",
        "* Split your data (into train/Valid/test).\n",
        "\n",
        "* Fill the Training set, Validation set and Test set numerical values separately.\n",
        "\n",
        "* Don’t use numerical data from the future (Validation set /Test set) to fill data from the past (Training set).\n",
        "\n",
        "\n",
        "## Filling missing Non-numeric values \n",
        "\n",
        "Feature columns are of Dtype :  int64, float64, object\n",
        "\n",
        "The saledate column is of Dtype datetime64[ns]\n",
        "\n",
        "we need to split data and then perform the transform/filling.\n",
        "However, when converting string data to categorical data type, it is necessary to transform and fill before splitting.\n",
        "\n",
        "Its done so that the training, validation and test set has the same category code for the same string.\n",
        "\n",
        "For eg: state is a feature column having 53 unique values,\n",
        "if we are converting state values to categories, \n",
        "'Arkansas' should have the same code across the training,validation and test set. It cannot be 4 in one, 2 in the other. \n",
        "\n",
        "The only step that needs to wait until the train/valid split is the filling of numerical values that depend on information from other rows, such as the median or mean fill.\n",
        "\n",
        "Categorical transformations and fill values don't depend on other rows, so that should be fine to do at any time,"
      ]
    },
    {
      "cell_type": "markdown",
      "metadata": {
        "id": "pafh9iXtFz_S"
      },
      "source": [
        "## Combine train. valid and test sets to transform and fill Non-numeric data\n",
        "\n",
        "concating the train , valid and test dataset into a single frame will create a SalesPrice column for test-data with NaN as values  \n",
        "\n",
        "Don't forget to drop the SalesPrice for the test-data after splitting the whole data into individual data-splits"
      ]
    },
    {
      "cell_type": "code",
      "metadata": {
        "id": "mFIMZ70-A_m2"
      },
      "source": [
        "# whole data (train, valid, test)\n",
        "data = pd.concat([bulldozer_data, test_data], ignore_index=True)\n"
      ],
      "execution_count": 18,
      "outputs": []
    },
    {
      "cell_type": "code",
      "metadata": {
        "colab": {
          "base_uri": "https://localhost:8080/"
        },
        "id": "3sQhN5l9BWr2",
        "outputId": "7da2788d-25f8-4355-ae64-e231f0e236fa"
      },
      "source": [
        "len(bulldozer_data), len(test_data), len(data)"
      ],
      "execution_count": 19,
      "outputs": [
        {
          "output_type": "execute_result",
          "data": {
            "text/plain": [
              "(412698, 12457, 425155)"
            ]
          },
          "metadata": {
            "tags": []
          },
          "execution_count": 19
        }
      ]
    },
    {
      "cell_type": "markdown",
      "metadata": {
        "id": "K6q2hmlSF_8A"
      },
      "source": [
        "## Check for missing values in the whole dataset before applying the transformation function"
      ]
    },
    {
      "cell_type": "code",
      "metadata": {
        "colab": {
          "base_uri": "https://localhost:8080/"
        },
        "id": "rM0tUkL6EEmM",
        "outputId": "341fa9a8-501e-4801-ae88-ce81c17745e2"
      },
      "source": [
        "data.isna().sum()"
      ],
      "execution_count": 20,
      "outputs": [
        {
          "output_type": "execute_result",
          "data": {
            "text/plain": [
              "SalesID                          0\n",
              "SalePrice                    12457\n",
              "MachineID                        0\n",
              "ModelID                          0\n",
              "datasource                       0\n",
              "auctioneerID                 20136\n",
              "YearMade                         0\n",
              "MachineHoursCurrentMeter    275522\n",
              "UsageBand                   349651\n",
              "saledate                         0\n",
              "fiModelDesc                      0\n",
              "fiBaseModel                      0\n",
              "fiSecondaryDesc             144702\n",
              "fiModelSeries               364482\n",
              "fiModelDescriptor           347315\n",
              "ProductSize                 223014\n",
              "fiProductClassDesc               0\n",
              "state                            0\n",
              "ProductGroup                     0\n",
              "ProductGroupDesc                 0\n",
              "Drive_System                315309\n",
              "Enclosure                      336\n",
              "Forks                       221132\n",
              "Pad_Type                    341951\n",
              "Ride_Control                268186\n",
              "Stick                       341951\n",
              "Transmission                232330\n",
              "Turbocharged                341951\n",
              "Blade_Extension             398521\n",
              "Blade_Width                 398521\n",
              "Enclosure_Type              398521\n",
              "Engine_Horsepower           398521\n",
              "Hydraulics                   84707\n",
              "Pushblock                   398521\n",
              "Ripper                      315506\n",
              "Scarifier                   398510\n",
              "Tip_Control                 398521\n",
              "Tire_Size                   324739\n",
              "Coupler                     196875\n",
              "Coupler_System              378115\n",
              "Grouser_Tracks              378214\n",
              "Hydraulics_Flow             378214\n",
              "Track_Type                  319568\n",
              "Undercarriage_Pad_Width     318841\n",
              "Stick_Length                319500\n",
              "Thumb                       319428\n",
              "Pattern_Changer             319500\n",
              "Grouser_Type                319568\n",
              "Backhoe_Mounting            342392\n",
              "Blade_Type                  341222\n",
              "Travel_Controls             341220\n",
              "Differential_Type           351462\n",
              "Steering_Controls           351504\n",
              "dtype: int64"
            ]
          },
          "metadata": {
            "tags": []
          },
          "execution_count": 20
        }
      ]
    },
    {
      "cell_type": "markdown",
      "metadata": {
        "id": "1jLcSbfsIVuo"
      },
      "source": [
        "## Check for the data-types before applying the transformation function"
      ]
    },
    {
      "cell_type": "code",
      "metadata": {
        "colab": {
          "base_uri": "https://localhost:8080/"
        },
        "id": "DB9PDBiiIVN-",
        "outputId": "1573d7a6-26be-4e4e-a064-700ee2b49170"
      },
      "source": [
        "data.info()"
      ],
      "execution_count": 21,
      "outputs": [
        {
          "output_type": "stream",
          "text": [
            "<class 'pandas.core.frame.DataFrame'>\n",
            "RangeIndex: 425155 entries, 0 to 425154\n",
            "Data columns (total 53 columns):\n",
            " #   Column                    Non-Null Count   Dtype         \n",
            "---  ------                    --------------   -----         \n",
            " 0   SalesID                   425155 non-null  int64         \n",
            " 1   SalePrice                 412698 non-null  float64       \n",
            " 2   MachineID                 425155 non-null  int64         \n",
            " 3   ModelID                   425155 non-null  int64         \n",
            " 4   datasource                425155 non-null  int64         \n",
            " 5   auctioneerID              405019 non-null  float64       \n",
            " 6   YearMade                  425155 non-null  int64         \n",
            " 7   MachineHoursCurrentMeter  149633 non-null  float64       \n",
            " 8   UsageBand                 75504 non-null   object        \n",
            " 9   saledate                  425155 non-null  datetime64[ns]\n",
            " 10  fiModelDesc               425155 non-null  object        \n",
            " 11  fiBaseModel               425155 non-null  object        \n",
            " 12  fiSecondaryDesc           280453 non-null  object        \n",
            " 13  fiModelSeries             60673 non-null   object        \n",
            " 14  fiModelDescriptor         77840 non-null   object        \n",
            " 15  ProductSize               202141 non-null  object        \n",
            " 16  fiProductClassDesc        425155 non-null  object        \n",
            " 17  state                     425155 non-null  object        \n",
            " 18  ProductGroup              425155 non-null  object        \n",
            " 19  ProductGroupDesc          425155 non-null  object        \n",
            " 20  Drive_System              109846 non-null  object        \n",
            " 21  Enclosure                 424819 non-null  object        \n",
            " 22  Forks                     204023 non-null  object        \n",
            " 23  Pad_Type                  83204 non-null   object        \n",
            " 24  Ride_Control              156969 non-null  object        \n",
            " 25  Stick                     83204 non-null   object        \n",
            " 26  Transmission              192825 non-null  object        \n",
            " 27  Turbocharged              83204 non-null   object        \n",
            " 28  Blade_Extension           26634 non-null   object        \n",
            " 29  Blade_Width               26634 non-null   object        \n",
            " 30  Enclosure_Type            26634 non-null   object        \n",
            " 31  Engine_Horsepower         26634 non-null   object        \n",
            " 32  Hydraulics                340448 non-null  object        \n",
            " 33  Pushblock                 26634 non-null   object        \n",
            " 34  Ripper                    109649 non-null  object        \n",
            " 35  Scarifier                 26645 non-null   object        \n",
            " 36  Tip_Control               26634 non-null   object        \n",
            " 37  Tire_Size                 100416 non-null  object        \n",
            " 38  Coupler                   228280 non-null  object        \n",
            " 39  Coupler_System            47040 non-null   object        \n",
            " 40  Grouser_Tracks            46941 non-null   object        \n",
            " 41  Hydraulics_Flow           46941 non-null   object        \n",
            " 42  Track_Type                105587 non-null  object        \n",
            " 43  Undercarriage_Pad_Width   106314 non-null  object        \n",
            " 44  Stick_Length              105655 non-null  object        \n",
            " 45  Thumb                     105727 non-null  object        \n",
            " 46  Pattern_Changer           105655 non-null  object        \n",
            " 47  Grouser_Type              105587 non-null  object        \n",
            " 48  Backhoe_Mounting          82763 non-null   object        \n",
            " 49  Blade_Type                83933 non-null   object        \n",
            " 50  Travel_Controls           83935 non-null   object        \n",
            " 51  Differential_Type         73693 non-null   object        \n",
            " 52  Steering_Controls         73651 non-null   object        \n",
            "dtypes: datetime64[ns](1), float64(3), int64(5), object(44)\n",
            "memory usage: 171.9+ MB\n"
          ],
          "name": "stdout"
        }
      ]
    },
    {
      "cell_type": "markdown",
      "metadata": {
        "id": "eBew0ycCGKnc"
      },
      "source": [
        "## Create a function for transforming and filling the missing Non numeric data in the whole dataset\n",
        "\n",
        "\n"
      ]
    },
    {
      "cell_type": "code",
      "metadata": {
        "id": "-cZUSX4nCIWp"
      },
      "source": [
        "# function for transforming and filling missing data\n",
        "def transform_and_fill_cat_data(df):\n",
        "  for label, content in df.items():\n",
        "\n",
        "    if not pd.api.types.is_numeric_dtype(content) and label != 'saledate':\n",
        "      df[label] = pd.Categorical(content, ordered=True).codes\n",
        "  return df"
      ],
      "execution_count": 22,
      "outputs": []
    },
    {
      "cell_type": "code",
      "metadata": {
        "id": "RoGFyA05D-9r"
      },
      "source": [
        "# applying the function\n",
        "new_df =  transform_and_fill_cat_data(data)"
      ],
      "execution_count": 23,
      "outputs": []
    },
    {
      "cell_type": "markdown",
      "metadata": {
        "id": "mnd-g7KmHGgr"
      },
      "source": [
        "## Check for missing values after applying the transformation function"
      ]
    },
    {
      "cell_type": "code",
      "metadata": {
        "colab": {
          "base_uri": "https://localhost:8080/"
        },
        "id": "Q7l-Ehj6EUTt",
        "outputId": "dbb60a8a-149c-4ead-91fc-45a2a12566aa"
      },
      "source": [
        "# all non numeric data are filled\n",
        "new_df.isna().sum()"
      ],
      "execution_count": 24,
      "outputs": [
        {
          "output_type": "execute_result",
          "data": {
            "text/plain": [
              "SalesID                          0\n",
              "SalePrice                    12457\n",
              "MachineID                        0\n",
              "ModelID                          0\n",
              "datasource                       0\n",
              "auctioneerID                 20136\n",
              "YearMade                         0\n",
              "MachineHoursCurrentMeter    275522\n",
              "UsageBand                        0\n",
              "saledate                         0\n",
              "fiModelDesc                      0\n",
              "fiBaseModel                      0\n",
              "fiSecondaryDesc                  0\n",
              "fiModelSeries                    0\n",
              "fiModelDescriptor                0\n",
              "ProductSize                      0\n",
              "fiProductClassDesc               0\n",
              "state                            0\n",
              "ProductGroup                     0\n",
              "ProductGroupDesc                 0\n",
              "Drive_System                     0\n",
              "Enclosure                        0\n",
              "Forks                            0\n",
              "Pad_Type                         0\n",
              "Ride_Control                     0\n",
              "Stick                            0\n",
              "Transmission                     0\n",
              "Turbocharged                     0\n",
              "Blade_Extension                  0\n",
              "Blade_Width                      0\n",
              "Enclosure_Type                   0\n",
              "Engine_Horsepower                0\n",
              "Hydraulics                       0\n",
              "Pushblock                        0\n",
              "Ripper                           0\n",
              "Scarifier                        0\n",
              "Tip_Control                      0\n",
              "Tire_Size                        0\n",
              "Coupler                          0\n",
              "Coupler_System                   0\n",
              "Grouser_Tracks                   0\n",
              "Hydraulics_Flow                  0\n",
              "Track_Type                       0\n",
              "Undercarriage_Pad_Width          0\n",
              "Stick_Length                     0\n",
              "Thumb                            0\n",
              "Pattern_Changer                  0\n",
              "Grouser_Type                     0\n",
              "Backhoe_Mounting                 0\n",
              "Blade_Type                       0\n",
              "Travel_Controls                  0\n",
              "Differential_Type                0\n",
              "Steering_Controls                0\n",
              "dtype: int64"
            ]
          },
          "metadata": {
            "tags": []
          },
          "execution_count": 24
        }
      ]
    },
    {
      "cell_type": "markdown",
      "metadata": {
        "id": "ATuX3WD6JGx2"
      },
      "source": [
        "## Check for data-types after applying the transformation function"
      ]
    },
    {
      "cell_type": "code",
      "metadata": {
        "colab": {
          "base_uri": "https://localhost:8080/"
        },
        "id": "YUkwx5WKEunN",
        "outputId": "d34a8e84-4107-44dc-9433-5d8b0984d8f5"
      },
      "source": [
        "# check the data-types of columns \n",
        "new_df.info()"
      ],
      "execution_count": 25,
      "outputs": [
        {
          "output_type": "stream",
          "text": [
            "<class 'pandas.core.frame.DataFrame'>\n",
            "RangeIndex: 425155 entries, 0 to 425154\n",
            "Data columns (total 53 columns):\n",
            " #   Column                    Non-Null Count   Dtype         \n",
            "---  ------                    --------------   -----         \n",
            " 0   SalesID                   425155 non-null  int64         \n",
            " 1   SalePrice                 412698 non-null  float64       \n",
            " 2   MachineID                 425155 non-null  int64         \n",
            " 3   ModelID                   425155 non-null  int64         \n",
            " 4   datasource                425155 non-null  int64         \n",
            " 5   auctioneerID              405019 non-null  float64       \n",
            " 6   YearMade                  425155 non-null  int64         \n",
            " 7   MachineHoursCurrentMeter  149633 non-null  float64       \n",
            " 8   UsageBand                 425155 non-null  int8          \n",
            " 9   saledate                  425155 non-null  datetime64[ns]\n",
            " 10  fiModelDesc               425155 non-null  int16         \n",
            " 11  fiBaseModel               425155 non-null  int16         \n",
            " 12  fiSecondaryDesc           425155 non-null  int16         \n",
            " 13  fiModelSeries             425155 non-null  int8          \n",
            " 14  fiModelDescriptor         425155 non-null  int16         \n",
            " 15  ProductSize               425155 non-null  int8          \n",
            " 16  fiProductClassDesc        425155 non-null  int8          \n",
            " 17  state                     425155 non-null  int8          \n",
            " 18  ProductGroup              425155 non-null  int8          \n",
            " 19  ProductGroupDesc          425155 non-null  int8          \n",
            " 20  Drive_System              425155 non-null  int8          \n",
            " 21  Enclosure                 425155 non-null  int8          \n",
            " 22  Forks                     425155 non-null  int8          \n",
            " 23  Pad_Type                  425155 non-null  int8          \n",
            " 24  Ride_Control              425155 non-null  int8          \n",
            " 25  Stick                     425155 non-null  int8          \n",
            " 26  Transmission              425155 non-null  int8          \n",
            " 27  Turbocharged              425155 non-null  int8          \n",
            " 28  Blade_Extension           425155 non-null  int8          \n",
            " 29  Blade_Width               425155 non-null  int8          \n",
            " 30  Enclosure_Type            425155 non-null  int8          \n",
            " 31  Engine_Horsepower         425155 non-null  int8          \n",
            " 32  Hydraulics                425155 non-null  int8          \n",
            " 33  Pushblock                 425155 non-null  int8          \n",
            " 34  Ripper                    425155 non-null  int8          \n",
            " 35  Scarifier                 425155 non-null  int8          \n",
            " 36  Tip_Control               425155 non-null  int8          \n",
            " 37  Tire_Size                 425155 non-null  int8          \n",
            " 38  Coupler                   425155 non-null  int8          \n",
            " 39  Coupler_System            425155 non-null  int8          \n",
            " 40  Grouser_Tracks            425155 non-null  int8          \n",
            " 41  Hydraulics_Flow           425155 non-null  int8          \n",
            " 42  Track_Type                425155 non-null  int8          \n",
            " 43  Undercarriage_Pad_Width   425155 non-null  int8          \n",
            " 44  Stick_Length              425155 non-null  int8          \n",
            " 45  Thumb                     425155 non-null  int8          \n",
            " 46  Pattern_Changer           425155 non-null  int8          \n",
            " 47  Grouser_Type              425155 non-null  int8          \n",
            " 48  Backhoe_Mounting          425155 non-null  int8          \n",
            " 49  Blade_Type                425155 non-null  int8          \n",
            " 50  Travel_Controls           425155 non-null  int8          \n",
            " 51  Differential_Type         425155 non-null  int8          \n",
            " 52  Steering_Controls         425155 non-null  int8          \n",
            "dtypes: datetime64[ns](1), float64(3), int16(4), int64(5), int8(40)\n",
            "memory usage: 48.7 MB\n"
          ],
          "name": "stdout"
        }
      ]
    },
    {
      "cell_type": "markdown",
      "metadata": {
        "id": "FTc5S2JSR129"
      },
      "source": [
        "# Split the data into Train , Valid and Test set \n",
        "\n",
        "Train.csv is the training set, which contains data through the end of 2011.\n",
        "\n",
        "Valid.csv is the validation set, which contains data from January 1, 2012 - April 30, 2012 \n",
        "\n",
        "Test.csv is the test set It contains data from May 1, 2012 - November 2012.\n",
        "\n",
        "> ### SettingWithCopyWarning\n",
        "Make a deep copy to prevent SettingWithCopyWarning\n",
        "link: https://pandas.pydata.org/pandas-docs/stable/user_guide/indexing.html#returning-a-view-versus-a-copy\n",
        "\n",
        "#### what is SettingWithCopyWarning\n",
        "\n",
        "When you use chained indexing, the order and type of the indexing operation partially determine whether the result is a slice into the original object, or a copy of the slice.\n",
        "\n",
        "pandas has the SettingWithCopyWarning because assigning to a copy of a slice is frequently not intentional, but a mistake caused by chained indexing returning a copy where a slice was expected.\n",
        "\n",
        "When filtering DataFrames, it is possible slice/index a frame to return either a view, or a copy, depending on the internal layout and various implementation details. A \"view\" is, as the term suggests, a view into the original data, so modifying the view may modify the original object. On the other hand, a \"copy\" is a replication of data from the original, and modifying the copy has no effect on the original.\n",
        "\n",
        "The SettingWithCopyWarning was created to flag \"chained assignment\" operations\n",
        "\n",
        "> examples of chained assignment,\n",
        "\n",
        "`train_df = new_df[new_df['saledate'].dt.year<=2011]`\n",
        "\n",
        "`valid_df = new_df[(new_df['saledate'].dt.year==2012)&(new_df['saledate'].dt.month>=1)&(new_df['saledate'].dt.month<=4)]`\n",
        "\n",
        "`test_df = new_df[(new_df['saledate'].dt.year>=2012)&(new_df['saledate'].dt.month>4)]`\n",
        "\n",
        "\n",
        "\n",
        "The problem with chained assignment, is that it is generally difficult to predict whether a `view` or a `copy` is returned, so this largely becomes an issue when you are attempting to assign values back.\n",
        "\n",
        "> example  *SettingWithCopyWarning*\n",
        "\n",
        "`df2 = df[['A']]`\n",
        "\n",
        "`df2['A'] /= 2`\n",
        "\n",
        "will raise the warning, but the operation will work.\n",
        "\n",
        "A solution is to make a Deep Copy\n",
        "\n",
        "> **Make a deepcopy**\n",
        "\n",
        " `df2 = df[['A']].copy(deep=True)`\n",
        "\n",
        " `df2['A'] /= 2`"
      ]
    },
    {
      "cell_type": "code",
      "metadata": {
        "id": "F-IspdXnFfXB",
        "colab": {
          "base_uri": "https://localhost:8080/"
        },
        "outputId": "5a185132-df7d-496b-e256-cdcead48915f"
      },
      "source": [
        "# check the saledate column\n",
        "new_df['saledate']"
      ],
      "execution_count": 26,
      "outputs": [
        {
          "output_type": "execute_result",
          "data": {
            "text/plain": [
              "0        2006-11-16\n",
              "1        2004-03-26\n",
              "2        2004-02-26\n",
              "3        2011-05-19\n",
              "4        2009-07-23\n",
              "            ...    \n",
              "425150   2012-10-24\n",
              "425151   2012-10-24\n",
              "425152   2012-10-24\n",
              "425153   2012-10-24\n",
              "425154   2012-09-19\n",
              "Name: saledate, Length: 425155, dtype: datetime64[ns]"
            ]
          },
          "metadata": {
            "tags": []
          },
          "execution_count": 26
        }
      ]
    },
    {
      "cell_type": "markdown",
      "metadata": {
        "id": "rDfn0n0RUHYi"
      },
      "source": [
        "## Create a Training set\n",
        "\n",
        ">  contains data through the end of 2011.\n",
        "\n",
        "\n"
      ]
    },
    {
      "cell_type": "code",
      "metadata": {
        "colab": {
          "base_uri": "https://localhost:8080/"
        },
        "id": "UjCu-4PuR82F",
        "outputId": "beb8dfc7-ff28-4276-c021-938c02c8975f"
      },
      "source": [
        "# training set \n",
        "\n",
        "train_df = new_df[new_df['saledate'].dt.year<=2011].copy(deep=True)\n",
        "train_df['saledate']"
      ],
      "execution_count": 27,
      "outputs": [
        {
          "output_type": "execute_result",
          "data": {
            "text/plain": [
              "0        2006-11-16\n",
              "1        2004-03-26\n",
              "2        2004-02-26\n",
              "3        2011-05-19\n",
              "4        2009-07-23\n",
              "            ...    \n",
              "401120   2011-11-02\n",
              "401121   2011-11-02\n",
              "401122   2011-11-02\n",
              "401123   2011-10-25\n",
              "401124   2011-10-25\n",
              "Name: saledate, Length: 401125, dtype: datetime64[ns]"
            ]
          },
          "metadata": {
            "tags": []
          },
          "execution_count": 27
        }
      ]
    },
    {
      "cell_type": "code",
      "metadata": {
        "colab": {
          "base_uri": "https://localhost:8080/"
        },
        "id": "F29qyqiJTWJ_",
        "outputId": "5da1e6bf-f943-475a-f780-54909380dc55"
      },
      "source": [
        "train_df['saledate'].dt.year.unique()"
      ],
      "execution_count": 28,
      "outputs": [
        {
          "output_type": "execute_result",
          "data": {
            "text/plain": [
              "array([2006, 2004, 2011, 2009, 2008, 2005, 2007, 2010, 2000, 2002, 1994,\n",
              "       1993, 1995, 1998, 1996, 1997, 1999, 2003, 1989, 1992, 2001, 1990,\n",
              "       1991])"
            ]
          },
          "metadata": {
            "tags": []
          },
          "execution_count": 28
        }
      ]
    },
    {
      "cell_type": "markdown",
      "metadata": {
        "id": "UHzOJvWVUsvb"
      },
      "source": [
        "## Create a Validation set\n",
        "\n",
        "> contains data from January 1, 2012 - April 30, 2012"
      ]
    },
    {
      "cell_type": "code",
      "metadata": {
        "colab": {
          "base_uri": "https://localhost:8080/"
        },
        "id": "qy1xLeRLUmub",
        "outputId": "2fe2149d-924a-4fff-f556-4338d99cef3f"
      },
      "source": [
        "# create a validation-set\n",
        "valid_df = new_df[(new_df['saledate'].dt.year==2012)&(new_df['saledate'].dt.month>=1)&(new_df['saledate'].dt.month<=4)].copy(deep=True)\n",
        "valid_df['saledate']"
      ],
      "execution_count": 29,
      "outputs": [
        {
          "output_type": "execute_result",
          "data": {
            "text/plain": [
              "401125   2012-01-05\n",
              "401126   2012-01-05\n",
              "401127   2012-01-05\n",
              "401128   2012-01-05\n",
              "401129   2012-01-04\n",
              "            ...    \n",
              "412693   2012-03-07\n",
              "412694   2012-01-28\n",
              "412695   2012-01-28\n",
              "412696   2012-03-07\n",
              "412697   2012-01-28\n",
              "Name: saledate, Length: 11573, dtype: datetime64[ns]"
            ]
          },
          "metadata": {
            "tags": []
          },
          "execution_count": 29
        }
      ]
    },
    {
      "cell_type": "code",
      "metadata": {
        "colab": {
          "base_uri": "https://localhost:8080/"
        },
        "id": "WoSYrj3PVeVq",
        "outputId": "c43cb636-73ac-476f-9806-45fefaf453df"
      },
      "source": [
        "valid_df['saledate'].dt.month.unique()"
      ],
      "execution_count": 30,
      "outputs": [
        {
          "output_type": "execute_result",
          "data": {
            "text/plain": [
              "array([1, 2, 3, 4])"
            ]
          },
          "metadata": {
            "tags": []
          },
          "execution_count": 30
        }
      ]
    },
    {
      "cell_type": "markdown",
      "metadata": {
        "id": "F8Dx54FBV_n4"
      },
      "source": [
        "## Create a Test set\n",
        "\n",
        "> contains data from May 1, 2012 - November 2012. "
      ]
    },
    {
      "cell_type": "code",
      "metadata": {
        "colab": {
          "base_uri": "https://localhost:8080/"
        },
        "id": "cpa0Z7oJVwbh",
        "outputId": "92399094-ff39-4559-ad78-aaee1a8def45"
      },
      "source": [
        "test_df = new_df[(new_df['saledate'].dt.year>=2012)&(new_df['saledate'].dt.month>4)].copy(deep=True)\n",
        "test_df['saledate']"
      ],
      "execution_count": 31,
      "outputs": [
        {
          "output_type": "execute_result",
          "data": {
            "text/plain": [
              "412698   2012-05-03\n",
              "412699   2012-05-10\n",
              "412700   2012-05-10\n",
              "412701   2012-05-10\n",
              "412702   2012-05-10\n",
              "            ...    \n",
              "425150   2012-10-24\n",
              "425151   2012-10-24\n",
              "425152   2012-10-24\n",
              "425153   2012-10-24\n",
              "425154   2012-09-19\n",
              "Name: saledate, Length: 12457, dtype: datetime64[ns]"
            ]
          },
          "metadata": {
            "tags": []
          },
          "execution_count": 31
        }
      ]
    },
    {
      "cell_type": "code",
      "metadata": {
        "colab": {
          "base_uri": "https://localhost:8080/"
        },
        "id": "mv_A_AgYWpdh",
        "outputId": "76a903ab-1493-487f-ea22-2b1dcaee9c24"
      },
      "source": [
        "test_df['saledate'].dt.month.unique()"
      ],
      "execution_count": 32,
      "outputs": [
        {
          "output_type": "execute_result",
          "data": {
            "text/plain": [
              "array([ 5,  6,  7,  8,  9, 10, 11])"
            ]
          },
          "metadata": {
            "tags": []
          },
          "execution_count": 32
        }
      ]
    },
    {
      "cell_type": "markdown",
      "metadata": {
        "id": "i4t3EqY4W98j"
      },
      "source": [
        "# Create utility functions for preprocessing\n",
        "\n",
        "* Filling the missing Numerical data \n",
        "* Enrich the dataframe with derived features\n",
        "\n",
        "we have `saledate` column which is of Dtype : `datetime64[ns]` \n",
        "\n",
        "we can derive more features from saledate column\n",
        "\n",
        "**Get year, month, and day**\n",
        "\n",
        "dt.year, dt.month and dt.day are the inbuilt attributes to get year, month , and day from Pandas datetime object.\n",
        "\n",
        "https://pandas.pydata.org/docs/reference/api/pandas.DatetimeIndex.html\n"
      ]
    },
    {
      "cell_type": "code",
      "metadata": {
        "id": "emPArX3kWw-Q"
      },
      "source": [
        "def enrich_df(df):\n",
        "  # Enrich the dataframe with derived features\n",
        "  df['SaleYear']=df['saledate'].dt.year\n",
        "  df['SaleMonth']=df['saledate'].dt.month\n",
        "  df['SaleDay']=df['saledate'].dt.day\n",
        "  df.drop(columns=['saledate'], inplace=True)\n",
        "  return df\n",
        "\n",
        "\n",
        "\n",
        "def fill_Numeric_col(df):\n",
        "  # fill missing values with median\n",
        "  for label, content in df.items():\n",
        "    if pd.api.types.is_numeric_dtype(content):\n",
        "      if pd.isna(content).sum():\n",
        "        df.loc[:,[label]] = content.fillna(content.median())\n",
        "  return df\n",
        "\n",
        "\n",
        "def preprocess_df(df):\n",
        "  df = enrich_df(df)\n",
        "  df = fill_Numeric_col(df)\n",
        "  return df\n",
        "\n"
      ],
      "execution_count": 33,
      "outputs": []
    },
    {
      "cell_type": "markdown",
      "metadata": {
        "id": "88tQUMgprP9g"
      },
      "source": [
        "## Preprocess the Training data"
      ]
    },
    {
      "cell_type": "code",
      "metadata": {
        "colab": {
          "base_uri": "https://localhost:8080/"
        },
        "id": "CH_Gh9yYakBb",
        "outputId": "25b993e3-d89f-4258-fb9a-6dcfee87b9e8"
      },
      "source": [
        "train_df_preprocessed = preprocess_df(train_df)\n",
        "train_df_preprocessed.isna().sum()"
      ],
      "execution_count": 34,
      "outputs": [
        {
          "output_type": "execute_result",
          "data": {
            "text/plain": [
              "SalesID                     0\n",
              "SalePrice                   0\n",
              "MachineID                   0\n",
              "ModelID                     0\n",
              "datasource                  0\n",
              "auctioneerID                0\n",
              "YearMade                    0\n",
              "MachineHoursCurrentMeter    0\n",
              "UsageBand                   0\n",
              "fiModelDesc                 0\n",
              "fiBaseModel                 0\n",
              "fiSecondaryDesc             0\n",
              "fiModelSeries               0\n",
              "fiModelDescriptor           0\n",
              "ProductSize                 0\n",
              "fiProductClassDesc          0\n",
              "state                       0\n",
              "ProductGroup                0\n",
              "ProductGroupDesc            0\n",
              "Drive_System                0\n",
              "Enclosure                   0\n",
              "Forks                       0\n",
              "Pad_Type                    0\n",
              "Ride_Control                0\n",
              "Stick                       0\n",
              "Transmission                0\n",
              "Turbocharged                0\n",
              "Blade_Extension             0\n",
              "Blade_Width                 0\n",
              "Enclosure_Type              0\n",
              "Engine_Horsepower           0\n",
              "Hydraulics                  0\n",
              "Pushblock                   0\n",
              "Ripper                      0\n",
              "Scarifier                   0\n",
              "Tip_Control                 0\n",
              "Tire_Size                   0\n",
              "Coupler                     0\n",
              "Coupler_System              0\n",
              "Grouser_Tracks              0\n",
              "Hydraulics_Flow             0\n",
              "Track_Type                  0\n",
              "Undercarriage_Pad_Width     0\n",
              "Stick_Length                0\n",
              "Thumb                       0\n",
              "Pattern_Changer             0\n",
              "Grouser_Type                0\n",
              "Backhoe_Mounting            0\n",
              "Blade_Type                  0\n",
              "Travel_Controls             0\n",
              "Differential_Type           0\n",
              "Steering_Controls           0\n",
              "SaleYear                    0\n",
              "SaleMonth                   0\n",
              "SaleDay                     0\n",
              "dtype: int64"
            ]
          },
          "metadata": {
            "tags": []
          },
          "execution_count": 34
        }
      ]
    },
    {
      "cell_type": "markdown",
      "metadata": {
        "id": "Xirx4jI5sGQ-"
      },
      "source": [
        "## Preprocess the Validation data"
      ]
    },
    {
      "cell_type": "code",
      "metadata": {
        "id": "Crxo8zDXcWJK",
        "colab": {
          "base_uri": "https://localhost:8080/"
        },
        "outputId": "b53b67dc-82d7-4b50-c9d0-2c0f8303af41"
      },
      "source": [
        "valid_df_preprocessed = preprocess_df(valid_df)\n",
        "valid_df.isna().sum()"
      ],
      "execution_count": 35,
      "outputs": [
        {
          "output_type": "execute_result",
          "data": {
            "text/plain": [
              "SalesID                     0\n",
              "SalePrice                   0\n",
              "MachineID                   0\n",
              "ModelID                     0\n",
              "datasource                  0\n",
              "auctioneerID                0\n",
              "YearMade                    0\n",
              "MachineHoursCurrentMeter    0\n",
              "UsageBand                   0\n",
              "fiModelDesc                 0\n",
              "fiBaseModel                 0\n",
              "fiSecondaryDesc             0\n",
              "fiModelSeries               0\n",
              "fiModelDescriptor           0\n",
              "ProductSize                 0\n",
              "fiProductClassDesc          0\n",
              "state                       0\n",
              "ProductGroup                0\n",
              "ProductGroupDesc            0\n",
              "Drive_System                0\n",
              "Enclosure                   0\n",
              "Forks                       0\n",
              "Pad_Type                    0\n",
              "Ride_Control                0\n",
              "Stick                       0\n",
              "Transmission                0\n",
              "Turbocharged                0\n",
              "Blade_Extension             0\n",
              "Blade_Width                 0\n",
              "Enclosure_Type              0\n",
              "Engine_Horsepower           0\n",
              "Hydraulics                  0\n",
              "Pushblock                   0\n",
              "Ripper                      0\n",
              "Scarifier                   0\n",
              "Tip_Control                 0\n",
              "Tire_Size                   0\n",
              "Coupler                     0\n",
              "Coupler_System              0\n",
              "Grouser_Tracks              0\n",
              "Hydraulics_Flow             0\n",
              "Track_Type                  0\n",
              "Undercarriage_Pad_Width     0\n",
              "Stick_Length                0\n",
              "Thumb                       0\n",
              "Pattern_Changer             0\n",
              "Grouser_Type                0\n",
              "Backhoe_Mounting            0\n",
              "Blade_Type                  0\n",
              "Travel_Controls             0\n",
              "Differential_Type           0\n",
              "Steering_Controls           0\n",
              "SaleYear                    0\n",
              "SaleMonth                   0\n",
              "SaleDay                     0\n",
              "dtype: int64"
            ]
          },
          "metadata": {
            "tags": []
          },
          "execution_count": 35
        }
      ]
    },
    {
      "cell_type": "markdown",
      "metadata": {
        "id": "KqB256DxsaFX"
      },
      "source": [
        "## Preprocess the Test data"
      ]
    },
    {
      "cell_type": "code",
      "metadata": {
        "colab": {
          "base_uri": "https://localhost:8080/"
        },
        "id": "K8WKpnLPsYgw",
        "outputId": "3eecd982-b320-4b97-c3fe-29218903c020"
      },
      "source": [
        "test_df_preprocessed = preprocess_df(test_df)\n",
        "test_df_preprocessed.isna().sum()"
      ],
      "execution_count": 36,
      "outputs": [
        {
          "output_type": "execute_result",
          "data": {
            "text/plain": [
              "SalesID                         0\n",
              "SalePrice                   12457\n",
              "MachineID                       0\n",
              "ModelID                         0\n",
              "datasource                      0\n",
              "auctioneerID                    0\n",
              "YearMade                        0\n",
              "MachineHoursCurrentMeter        0\n",
              "UsageBand                       0\n",
              "fiModelDesc                     0\n",
              "fiBaseModel                     0\n",
              "fiSecondaryDesc                 0\n",
              "fiModelSeries                   0\n",
              "fiModelDescriptor               0\n",
              "ProductSize                     0\n",
              "fiProductClassDesc              0\n",
              "state                           0\n",
              "ProductGroup                    0\n",
              "ProductGroupDesc                0\n",
              "Drive_System                    0\n",
              "Enclosure                       0\n",
              "Forks                           0\n",
              "Pad_Type                        0\n",
              "Ride_Control                    0\n",
              "Stick                           0\n",
              "Transmission                    0\n",
              "Turbocharged                    0\n",
              "Blade_Extension                 0\n",
              "Blade_Width                     0\n",
              "Enclosure_Type                  0\n",
              "Engine_Horsepower               0\n",
              "Hydraulics                      0\n",
              "Pushblock                       0\n",
              "Ripper                          0\n",
              "Scarifier                       0\n",
              "Tip_Control                     0\n",
              "Tire_Size                       0\n",
              "Coupler                         0\n",
              "Coupler_System                  0\n",
              "Grouser_Tracks                  0\n",
              "Hydraulics_Flow                 0\n",
              "Track_Type                      0\n",
              "Undercarriage_Pad_Width         0\n",
              "Stick_Length                    0\n",
              "Thumb                           0\n",
              "Pattern_Changer                 0\n",
              "Grouser_Type                    0\n",
              "Backhoe_Mounting                0\n",
              "Blade_Type                      0\n",
              "Travel_Controls                 0\n",
              "Differential_Type               0\n",
              "Steering_Controls               0\n",
              "SaleYear                        0\n",
              "SaleMonth                       0\n",
              "SaleDay                         0\n",
              "dtype: int64"
            ]
          },
          "metadata": {
            "tags": []
          },
          "execution_count": 36
        }
      ]
    },
    {
      "cell_type": "markdown",
      "metadata": {
        "id": "EFgw2rqovxfy"
      },
      "source": [
        "### Drop the `SalePrice` Column from Test set\n",
        "\n",
        "The `SalePrice` column which was created with NaN values when we concat the Train/Valid/Test sets to encode & fill the categorical data"
      ]
    },
    {
      "cell_type": "code",
      "metadata": {
        "id": "a0i6dhXZsnQt"
      },
      "source": [
        "# drop the salePrice column from testdata\n",
        "test_df_preprocessed.drop(columns=['SalePrice'], inplace=True)"
      ],
      "execution_count": 37,
      "outputs": []
    },
    {
      "cell_type": "code",
      "metadata": {
        "colab": {
          "base_uri": "https://localhost:8080/"
        },
        "id": "PZjVtOJMsytZ",
        "outputId": "84602ff4-e08b-4f33-d6b0-6cbc8be1999e"
      },
      "source": [
        "test_df_preprocessed.isna().sum()"
      ],
      "execution_count": 38,
      "outputs": [
        {
          "output_type": "execute_result",
          "data": {
            "text/plain": [
              "SalesID                     0\n",
              "MachineID                   0\n",
              "ModelID                     0\n",
              "datasource                  0\n",
              "auctioneerID                0\n",
              "YearMade                    0\n",
              "MachineHoursCurrentMeter    0\n",
              "UsageBand                   0\n",
              "fiModelDesc                 0\n",
              "fiBaseModel                 0\n",
              "fiSecondaryDesc             0\n",
              "fiModelSeries               0\n",
              "fiModelDescriptor           0\n",
              "ProductSize                 0\n",
              "fiProductClassDesc          0\n",
              "state                       0\n",
              "ProductGroup                0\n",
              "ProductGroupDesc            0\n",
              "Drive_System                0\n",
              "Enclosure                   0\n",
              "Forks                       0\n",
              "Pad_Type                    0\n",
              "Ride_Control                0\n",
              "Stick                       0\n",
              "Transmission                0\n",
              "Turbocharged                0\n",
              "Blade_Extension             0\n",
              "Blade_Width                 0\n",
              "Enclosure_Type              0\n",
              "Engine_Horsepower           0\n",
              "Hydraulics                  0\n",
              "Pushblock                   0\n",
              "Ripper                      0\n",
              "Scarifier                   0\n",
              "Tip_Control                 0\n",
              "Tire_Size                   0\n",
              "Coupler                     0\n",
              "Coupler_System              0\n",
              "Grouser_Tracks              0\n",
              "Hydraulics_Flow             0\n",
              "Track_Type                  0\n",
              "Undercarriage_Pad_Width     0\n",
              "Stick_Length                0\n",
              "Thumb                       0\n",
              "Pattern_Changer             0\n",
              "Grouser_Type                0\n",
              "Backhoe_Mounting            0\n",
              "Blade_Type                  0\n",
              "Travel_Controls             0\n",
              "Differential_Type           0\n",
              "Steering_Controls           0\n",
              "SaleYear                    0\n",
              "SaleMonth                   0\n",
              "SaleDay                     0\n",
              "dtype: int64"
            ]
          },
          "metadata": {
            "tags": []
          },
          "execution_count": 38
        }
      ]
    },
    {
      "cell_type": "markdown",
      "metadata": {
        "id": "0KUtS6YPw2Ue"
      },
      "source": [
        "# Split the data into Features and Lables \n",
        "\n",
        "X_train, y_train from  train_df_preprocessed\n",
        "\n",
        "X_valid, y_valid  from  valid_df_preprocessed\n",
        "\n",
        "improve the model , tune the model, using the validation set \n",
        "\n",
        "we have already dropped the SalesPrice column from  test_df_preprocessed -- keep the test data for final prediction\n",
        "\n",
        "keep the data splits separate to prevent Data leak\n",
        "\n"
      ]
    },
    {
      "cell_type": "code",
      "metadata": {
        "colab": {
          "base_uri": "https://localhost:8080/"
        },
        "id": "eME5zqBcvA7c",
        "outputId": "5dcc57e6-df55-44ee-bf32-62c9893101dc"
      },
      "source": [
        "# Split the data into Features and Lables \n",
        "X_train, y_train = train_df_preprocessed.drop(columns=['SalePrice']), train_df_preprocessed['SalePrice']\n",
        "X_valid, y_valid = valid_df_preprocessed.drop(columns=['SalePrice']), valid_df_preprocessed['SalePrice']\n",
        "\n",
        "X_train.shape, y_train.shape, X_valid.shape, y_valid.shape"
      ],
      "execution_count": 39,
      "outputs": [
        {
          "output_type": "execute_result",
          "data": {
            "text/plain": [
              "((401125, 54), (401125,), (11573, 54), (11573,))"
            ]
          },
          "metadata": {
            "tags": []
          },
          "execution_count": 39
        }
      ]
    },
    {
      "cell_type": "markdown",
      "metadata": {
        "id": "HmQJGhye-5Zc"
      },
      "source": [
        "# Build an Evaluation Function\n",
        "\n",
        "According to Kaggle for the Bluebook for Bulldozers competition, the evaluation function they use is Root Mean Squared Log Error (RMSLE).\n",
        "\n",
        "We can do this by taking the square root of Scikit-Learn's mean_squared_log_error (MSLE)"
      ]
    },
    {
      "cell_type": "code",
      "metadata": {
        "id": "Zf5puBI2ytCD"
      },
      "source": [
        "from sklearn.metrics import mean_squared_log_error\n",
        "\n",
        "# ROOT MEAN SQUARED LOG ERROR\n",
        "def rmsle(y_true, y_pred):\n",
        "  return np.sqrt(mean_squared_log_error(y_true, y_pred))\n",
        "\n",
        "def evaluation_fn(model, features, true_labels):\n",
        "  y_preds = model.predict(features)\n",
        "  print('Evaluation function : Root Mean Squared Error')\n",
        "  return rmsle(true_labels, y_preds)\n"
      ],
      "execution_count": 40,
      "outputs": []
    },
    {
      "cell_type": "markdown",
      "metadata": {
        "id": "Fz5ECJC5CBvy"
      },
      "source": [
        "# Build a Regression Model using scikit learn\n",
        "\n",
        "> RandomForestRegressor"
      ]
    },
    {
      "cell_type": "code",
      "metadata": {
        "id": "w-f8Ns6e_d9l"
      },
      "source": [
        "# import the model\n",
        "from sklearn.ensemble import  RandomForestRegressor"
      ],
      "execution_count": 41,
      "outputs": []
    },
    {
      "cell_type": "markdown",
      "metadata": {
        "id": "xCw8ia-tHQyb"
      },
      "source": [
        "## Training the Model"
      ]
    },
    {
      "cell_type": "code",
      "metadata": {
        "colab": {
          "base_uri": "https://localhost:8080/"
        },
        "id": "3AadWnYZCAF-",
        "outputId": "150e243d-31d5-4c70-a74c-f7024dc5d5dc"
      },
      "source": [
        "%%time\n",
        "# set the seed\n",
        "np.random.seed(42)\n",
        "# initialize the model\n",
        "rf = RandomForestRegressor()\n",
        "\n",
        "# train the model on training set\n",
        "rf.fit(X_train, y_train)"
      ],
      "execution_count": 42,
      "outputs": [
        {
          "output_type": "stream",
          "text": [
            "CPU times: user 9min 22s, sys: 4.23 s, total: 9min 26s\n",
            "Wall time: 9min 25s\n"
          ],
          "name": "stdout"
        }
      ]
    },
    {
      "cell_type": "markdown",
      "metadata": {
        "id": "KocYVR-IHVTj"
      },
      "source": [
        "## Evaluating the Model on Validation set"
      ]
    },
    {
      "cell_type": "code",
      "metadata": {
        "colab": {
          "base_uri": "https://localhost:8080/"
        },
        "id": "TxpK-ee_C1ps",
        "outputId": "ea08ec2f-1085-4577-bed0-df7425442f6a"
      },
      "source": [
        "# evaluation on validation-set\n",
        "evaluation_fn(rf, X_valid, y_valid)"
      ],
      "execution_count": 43,
      "outputs": [
        {
          "output_type": "stream",
          "text": [
            "Evaluation function : Root Mean Squared Error\n"
          ],
          "name": "stdout"
        },
        {
          "output_type": "execute_result",
          "data": {
            "text/plain": [
              "0.25090238146225907"
            ]
          },
          "metadata": {
            "tags": []
          },
          "execution_count": 43
        }
      ]
    },
    {
      "cell_type": "markdown",
      "metadata": {
        "id": "klBFy1xum5Xl"
      },
      "source": [
        "# Feature Importance\n"
      ]
    },
    {
      "cell_type": "code",
      "metadata": {
        "id": "eg1VLnNXm4SJ"
      },
      "source": [
        "# Get numerical feature importances\n",
        "importance = rf.feature_importances_"
      ],
      "execution_count": 44,
      "outputs": []
    },
    {
      "cell_type": "code",
      "metadata": {
        "id": "Gp47W-ZSnDmM"
      },
      "source": [
        "# List of tuples with variable and importance\n",
        "feature_importance = [(feature, importance) for feature,importance in zip(X_train.columns, importance)]"
      ],
      "execution_count": 45,
      "outputs": []
    },
    {
      "cell_type": "code",
      "metadata": {
        "id": "4pPp3-NfnwBf"
      },
      "source": [
        "# Sort the feature importances by most important first\n",
        "feature_importance  = sorted(feature_importance, key=lambda x: x[1], reverse=True)\n"
      ],
      "execution_count": 46,
      "outputs": []
    },
    {
      "cell_type": "code",
      "metadata": {
        "colab": {
          "base_uri": "https://localhost:8080/"
        },
        "id": "McoN12OOnyax",
        "outputId": "4fc57e9d-5c98-4f94-f96f-0f31b66f9a80"
      },
      "source": [
        "# Print out the feature and importances \n",
        "\n",
        "for feature, importance in feature_importance:\n",
        "  print('Feature : {0}  importance : {1}'.format(feature, importance))"
      ],
      "execution_count": 47,
      "outputs": [
        {
          "output_type": "stream",
          "text": [
            "Feature : YearMade  importance : 0.26209902569060267\n",
            "Feature : ProductSize  importance : 0.22996429995297968\n",
            "Feature : fiBaseModel  importance : 0.07792044056087356\n",
            "Feature : SaleYear  importance : 0.07673169319038549\n",
            "Feature : fiSecondaryDesc  importance : 0.05208297430625583\n",
            "Feature : SalesID  importance : 0.05141521288881427\n",
            "Feature : fiProductClassDesc  importance : 0.039068405112337314\n",
            "Feature : ModelID  importance : 0.03272114919441859\n",
            "Feature : Coupler_System  importance : 0.030014794918350626\n",
            "Feature : fiModelDesc  importance : 0.020890972501512613\n",
            "Feature : MachineID  importance : 0.01801193348779358\n",
            "Feature : SaleMonth  importance : 0.0124626646893428\n",
            "Feature : SaleDay  importance : 0.010924581313373758\n",
            "Feature : state  importance : 0.010297781332717448\n",
            "Feature : Blade_Width  importance : 0.009822412772827298\n",
            "Feature : Enclosure  importance : 0.009447345214026237\n",
            "Feature : Hydraulics  importance : 0.006323579938970879\n",
            "Feature : Scarifier  importance : 0.005820679686123131\n",
            "Feature : auctioneerID  importance : 0.005210067343359701\n",
            "Feature : fiModelSeries  importance : 0.005029990046818354\n",
            "Feature : fiModelDescriptor  importance : 0.0043153375417704625\n",
            "Feature : MachineHoursCurrentMeter  importance : 0.003546813685767608\n",
            "Feature : Ripper  importance : 0.0024644103812008836\n",
            "Feature : Pushblock  importance : 0.002250049891798813\n",
            "Feature : Tire_Size  importance : 0.0022353177878421957\n",
            "Feature : Blade_Type  importance : 0.0018731304443728976\n",
            "Feature : Transmission  importance : 0.0017217982174337807\n",
            "Feature : Drive_System  importance : 0.0017126080630366076\n",
            "Feature : Stick_Length  importance : 0.0014575123174987473\n",
            "Feature : UsageBand  importance : 0.001358928181943247\n",
            "Feature : Coupler  importance : 0.00119799153520932\n",
            "Feature : Undercarriage_Pad_Width  importance : 0.0011802352484110898\n",
            "Feature : Travel_Controls  importance : 0.0010799668292284308\n",
            "Feature : Thumb  importance : 0.0008573738269356118\n",
            "Feature : Engine_Horsepower  importance : 0.000704991085170769\n",
            "Feature : Blade_Extension  importance : 0.0006567494298886752\n",
            "Feature : Ride_Control  importance : 0.0006369368164576047\n",
            "Feature : Enclosure_Type  importance : 0.0006280275591232161\n",
            "Feature : Grouser_Type  importance : 0.000550622860227774\n",
            "Feature : datasource  importance : 0.0005110921418110094\n",
            "Feature : Forks  importance : 0.00048402890313693124\n",
            "Feature : Backhoe_Mounting  importance : 0.00035238844266250005\n",
            "Feature : Pattern_Changer  importance : 0.0002759923269885532\n",
            "Feature : ProductGroupDesc  importance : 0.00024686278397599993\n",
            "Feature : Steering_Controls  importance : 0.00024424496305123995\n",
            "Feature : Tip_Control  importance : 0.00023880167412620586\n",
            "Feature : Differential_Type  importance : 0.00023242264735569493\n",
            "Feature : Track_Type  importance : 0.00022700992812661408\n",
            "Feature : ProductGroup  importance : 0.00022099872650214864\n",
            "Feature : Stick  importance : 0.00019034284199543472\n",
            "Feature : Pad_Type  importance : 4.228453647683006e-05\n",
            "Feature : Turbocharged  importance : 2.9668074304318698e-05\n",
            "Feature : Grouser_Tracks  importance : 9.59691067870366e-06\n",
            "Feature : Hydraulics_Flow  importance : 5.4592536066609695e-06\n"
          ],
          "name": "stdout"
        }
      ]
    },
    {
      "cell_type": "markdown",
      "metadata": {
        "id": "LB0quTxhqGG5"
      },
      "source": [
        "## Visualize the feature importance"
      ]
    },
    {
      "cell_type": "code",
      "metadata": {
        "colab": {
          "base_uri": "https://localhost:8080/",
          "height": 359
        },
        "id": "t1fsXaempEK-",
        "outputId": "d1d86af0-2cab-42a6-cbbb-b7c3fd959b66"
      },
      "source": [
        "# create a dataframe\n",
        "feature_importance_df = pd.DataFrame(data=[[f,i] for f,i in feature_importance], columns=['Features', 'Importance'])\n",
        "feature_importance_df.head(10)"
      ],
      "execution_count": 48,
      "outputs": [
        {
          "output_type": "execute_result",
          "data": {
            "text/html": [
              "<div>\n",
              "<style scoped>\n",
              "    .dataframe tbody tr th:only-of-type {\n",
              "        vertical-align: middle;\n",
              "    }\n",
              "\n",
              "    .dataframe tbody tr th {\n",
              "        vertical-align: top;\n",
              "    }\n",
              "\n",
              "    .dataframe thead th {\n",
              "        text-align: right;\n",
              "    }\n",
              "</style>\n",
              "<table border=\"1\" class=\"dataframe\">\n",
              "  <thead>\n",
              "    <tr style=\"text-align: right;\">\n",
              "      <th></th>\n",
              "      <th>Features</th>\n",
              "      <th>Importance</th>\n",
              "    </tr>\n",
              "  </thead>\n",
              "  <tbody>\n",
              "    <tr>\n",
              "      <th>0</th>\n",
              "      <td>YearMade</td>\n",
              "      <td>0.262099</td>\n",
              "    </tr>\n",
              "    <tr>\n",
              "      <th>1</th>\n",
              "      <td>ProductSize</td>\n",
              "      <td>0.229964</td>\n",
              "    </tr>\n",
              "    <tr>\n",
              "      <th>2</th>\n",
              "      <td>fiBaseModel</td>\n",
              "      <td>0.077920</td>\n",
              "    </tr>\n",
              "    <tr>\n",
              "      <th>3</th>\n",
              "      <td>SaleYear</td>\n",
              "      <td>0.076732</td>\n",
              "    </tr>\n",
              "    <tr>\n",
              "      <th>4</th>\n",
              "      <td>fiSecondaryDesc</td>\n",
              "      <td>0.052083</td>\n",
              "    </tr>\n",
              "    <tr>\n",
              "      <th>5</th>\n",
              "      <td>SalesID</td>\n",
              "      <td>0.051415</td>\n",
              "    </tr>\n",
              "    <tr>\n",
              "      <th>6</th>\n",
              "      <td>fiProductClassDesc</td>\n",
              "      <td>0.039068</td>\n",
              "    </tr>\n",
              "    <tr>\n",
              "      <th>7</th>\n",
              "      <td>ModelID</td>\n",
              "      <td>0.032721</td>\n",
              "    </tr>\n",
              "    <tr>\n",
              "      <th>8</th>\n",
              "      <td>Coupler_System</td>\n",
              "      <td>0.030015</td>\n",
              "    </tr>\n",
              "    <tr>\n",
              "      <th>9</th>\n",
              "      <td>fiModelDesc</td>\n",
              "      <td>0.020891</td>\n",
              "    </tr>\n",
              "  </tbody>\n",
              "</table>\n",
              "</div>"
            ],
            "text/plain": [
              "             Features  Importance\n",
              "0            YearMade    0.262099\n",
              "1         ProductSize    0.229964\n",
              "2         fiBaseModel    0.077920\n",
              "3            SaleYear    0.076732\n",
              "4     fiSecondaryDesc    0.052083\n",
              "5             SalesID    0.051415\n",
              "6  fiProductClassDesc    0.039068\n",
              "7             ModelID    0.032721\n",
              "8      Coupler_System    0.030015\n",
              "9         fiModelDesc    0.020891"
            ]
          },
          "metadata": {
            "tags": []
          },
          "execution_count": 48
        }
      ]
    },
    {
      "cell_type": "code",
      "metadata": {
        "colab": {
          "base_uri": "https://localhost:8080/",
          "height": 447
        },
        "id": "Wavv8wraqfex",
        "outputId": "7f665151-9e01-4900-8408-df893db59790"
      },
      "source": [
        "plt.figure(figsize=(15,5))\n",
        "plt.bar(feature_importance_df['Features'], feature_importance_df['Importance'])\n",
        "plt.xticks(ticks=feature_importance_df.index, labels=feature_importance_df['Features'], rotation=90)\n",
        "plt.show()"
      ],
      "execution_count": 49,
      "outputs": [
        {
          "output_type": "display_data",
          "data": {
            "image/png": "[encoded data removed]",
            "text/plain": [
              "<Figure size 1080x360 with 1 Axes>"
            ]
          },
          "metadata": {
            "tags": [],
            "needs_background": "light"
          }
        }
      ]
    },
    {
      "cell_type": "markdown",
      "metadata": {
        "id": "sdF5wcq4zAKS"
      },
      "source": [
        "At the top of the list is **`YearMade`**, this tells us the best predictor of the **`saleprice`** is the **`YearMade`**, a rather intuitive finding. \n",
        "\n",
        "The second most important factor is the **`ProductSize`**.\n",
        "\n",
        "The third is **`fiBaseModel`**.\n",
        "\n",
        "The fourth is **`SaleYear`**. \n",
        "\n",
        "and so on...\n",
        "\n",
        "\n",
        "*In future implementations of the model, we can remove those variables that have no importance and the performance will not suffer. Additionally, if we are using a different model, say a support vector machine, we could use the random forest feature importances as a kind of feature selection method.*\n",
        "\n",
        "\n",
        "Let’s quickly make a random forest with only the two most important variables, **`(YearMade 0.262099)`**,**`(ProductSize\t0.229964)`** and see how the performance compares.\n",
        "\n",
        "\n",
        "\n",
        "\n"
      ]
    },
    {
      "cell_type": "markdown",
      "metadata": {
        "id": "6ZMBWNH1QWMW"
      },
      "source": [
        "## Create Utility fuctions to extract important features and train a Regression Model on these features"
      ]
    },
    {
      "cell_type": "code",
      "metadata": {
        "id": "0T-iaY6d2Ip6"
      },
      "source": [
        "# Utility functions\n",
        "\n",
        "def extract_important_features(n,df=feature_importance_df):\n",
        "  '''Extract 'n'  most important variables'''\n",
        "  important_variable = df.loc[:n, ['Features']].values\n",
        "  imp_features = [f for f in important_variable.ravel()] \n",
        "  return imp_features\n",
        "\n",
        "\n",
        "def fit_the_model(X, y, model=RandomForestRegressor):\n",
        "  '''Train the model on training features X and labels y'''\n",
        "  rf_important = model(random_state=42)\n",
        "  rf_important.fit(X,y)\n",
        "  return rf_important\n"
      ],
      "execution_count": 50,
      "outputs": []
    },
    {
      "cell_type": "markdown",
      "metadata": {
        "id": "HMjcxt5_ABWq"
      },
      "source": [
        "## Train & Evaluate the model on two most important features\n",
        "(YearMade 0.262099),(ProductSize 0.229964)"
      ]
    },
    {
      "cell_type": "code",
      "metadata": {
        "colab": {
          "base_uri": "https://localhost:8080/"
        },
        "id": "MIvF1TY73Pew",
        "outputId": "c08a9c5f-9fde-42b4-c53b-1b8d925faba3"
      },
      "source": [
        "# extract two important features\n",
        "imp_features = extract_important_features(n=1)\n",
        "imp_features"
      ],
      "execution_count": 51,
      "outputs": [
        {
          "output_type": "execute_result",
          "data": {
            "text/plain": [
              "['YearMade', 'ProductSize']"
            ]
          },
          "metadata": {
            "tags": []
          },
          "execution_count": 51
        }
      ]
    },
    {
      "cell_type": "code",
      "metadata": {
        "colab": {
          "base_uri": "https://localhost:8080/"
        },
        "id": "ZWK_IhnSAgD8",
        "outputId": "339f3e52-ca66-4bb9-8f8a-ea8e6b8064fb"
      },
      "source": [
        "# train the model on important features\n",
        "%%time\n",
        "rf_important = fit_the_model(X_train[imp_features], y_train)"
      ],
      "execution_count": 52,
      "outputs": [
        {
          "output_type": "stream",
          "text": [
            "CPU times: user 12.2 s, sys: 35.9 ms, total: 12.3 s\n",
            "Wall time: 12.2 s\n"
          ],
          "name": "stdout"
        }
      ]
    },
    {
      "cell_type": "code",
      "metadata": {
        "colab": {
          "base_uri": "https://localhost:8080/"
        },
        "id": "dg0TygarA9Uv",
        "outputId": "b2197472-ff45-463b-9e40-e389ae11c4d8"
      },
      "source": [
        "# Evaluate the model performance\n",
        "evaluation_fn(rf_important, X_valid[imp_features], y_valid)"
      ],
      "execution_count": 53,
      "outputs": [
        {
          "output_type": "stream",
          "text": [
            "Evaluation function : Root Mean Squared Error\n"
          ],
          "name": "stdout"
        },
        {
          "output_type": "execute_result",
          "data": {
            "text/plain": [
              "0.5847102326838844"
            ]
          },
          "metadata": {
            "tags": []
          },
          "execution_count": 53
        }
      ]
    },
    {
      "cell_type": "markdown",
      "metadata": {
        "id": "_aRF-Dla5fmB"
      },
      "source": [
        "## Train & Evaluate the model on 16 most important features "
      ]
    },
    {
      "cell_type": "code",
      "metadata": {
        "colab": {
          "base_uri": "https://localhost:8080/"
        },
        "id": "3PVLI20NvPPT",
        "outputId": "eac15f97-a176-444b-9f81-0507dd530b66"
      },
      "source": [
        "# extracting importanct features only\n",
        "imp_features = extract_important_features(n=15)\n",
        "imp_features"
      ],
      "execution_count": 54,
      "outputs": [
        {
          "output_type": "execute_result",
          "data": {
            "text/plain": [
              "['YearMade',\n",
              " 'ProductSize',\n",
              " 'fiBaseModel',\n",
              " 'SaleYear',\n",
              " 'fiSecondaryDesc',\n",
              " 'SalesID',\n",
              " 'fiProductClassDesc',\n",
              " 'ModelID',\n",
              " 'Coupler_System',\n",
              " 'fiModelDesc',\n",
              " 'MachineID',\n",
              " 'SaleMonth',\n",
              " 'SaleDay',\n",
              " 'state',\n",
              " 'Blade_Width',\n",
              " 'Enclosure']"
            ]
          },
          "metadata": {
            "tags": []
          },
          "execution_count": 54
        }
      ]
    },
    {
      "cell_type": "code",
      "metadata": {
        "colab": {
          "base_uri": "https://localhost:8080/"
        },
        "id": "BZwuhaE65WXZ",
        "outputId": "cc0e5f81-d3c5-4cc4-fad5-c6c7e556ab62"
      },
      "source": [
        "# train the model on most important features only\n",
        "%%time\n",
        "rf_important_2 = fit_the_model(X_train[imp_features], y_train)"
      ],
      "execution_count": 55,
      "outputs": [
        {
          "output_type": "stream",
          "text": [
            "CPU times: user 6min 13s, sys: 3.63 s, total: 6min 16s\n",
            "Wall time: 6min 16s\n"
          ],
          "name": "stdout"
        }
      ]
    },
    {
      "cell_type": "code",
      "metadata": {
        "colab": {
          "base_uri": "https://localhost:8080/"
        },
        "id": "7Wqjf5c958WR",
        "outputId": "2674b51e-a433-4150-b6fd-ed8f07e30135"
      },
      "source": [
        "# evalaute the model performance\n",
        "evaluation_fn(rf_important_2, X_valid[imp_features], y_valid)"
      ],
      "execution_count": 56,
      "outputs": [
        {
          "output_type": "stream",
          "text": [
            "Evaluation function : Root Mean Squared Error\n"
          ],
          "name": "stdout"
        },
        {
          "output_type": "execute_result",
          "data": {
            "text/plain": [
              "0.25919184874495366"
            ]
          },
          "metadata": {
            "tags": []
          },
          "execution_count": 56
        }
      ]
    },
    {
      "cell_type": "markdown",
      "metadata": {
        "id": "K0epKGZQIZq1"
      },
      "source": [
        "## Visualize the performance"
      ]
    },
    {
      "cell_type": "code",
      "metadata": {
        "id": "jSZcek1kEU-J"
      },
      "source": [
        "# utility function\n",
        "# Visualize the prediction\n",
        "def visualize_model_predicitons(model, n_rows, imp_features  , X=X_valid, y_true=y_valid):\n",
        "  y_preds = model.predict(X_valid[imp_features])\n",
        "  fig,ax=plt.subplots(figsize=(15,3))\n",
        "  plt.plot(y_true[:100].values, color='salmon', marker='^', ls='dotted')\n",
        "  plt.plot(y_preds[:100], 'g^')\n",
        "  plt.legend(['true price','predictions'])\n",
        "  plt.title('True values vs Model Predictions (Random Forest Model trained using first {0} most important features)'.format(len(imp_features)) )\n",
        "  plt.show()\n"
      ],
      "execution_count": 57,
      "outputs": []
    },
    {
      "cell_type": "code",
      "metadata": {
        "colab": {
          "base_uri": "https://localhost:8080/",
          "height": 227
        },
        "id": "cMqFOAqZL8dq",
        "outputId": "4c575a29-9e3d-4881-de2f-b3b156062b80"
      },
      "source": [
        "# visualize the performance model trained with 2 most important features\n",
        "visualize_model_predicitons(rf_important, 100, extract_important_features(n=1))"
      ],
      "execution_count": 58,
      "outputs": [
        {
          "output_type": "display_data",
          "data": {
            "image/png": "[encoded data removed]",
            "text/plain": [
              "<Figure size 1080x216 with 1 Axes>"
            ]
          },
          "metadata": {
            "tags": [],
            "needs_background": "light"
          }
        }
      ]
    },
    {
      "cell_type": "code",
      "metadata": {
        "colab": {
          "base_uri": "https://localhost:8080/",
          "height": 227
        },
        "id": "eF2b6ppjFfyv",
        "outputId": "f3cad40a-cbb3-4d57-f2fe-09863b2868b5"
      },
      "source": [
        "# visualize the performance model trained with 16 most important features\n",
        "visualize_model_predicitons(rf_important_2, 100, extract_important_features(n=15))"
      ],
      "execution_count": 59,
      "outputs": [
        {
          "output_type": "display_data",
          "data": {
            "image/png": "[encoded data removed]",
            "text/plain": [
              "<Figure size 1080x216 with 1 Axes>"
            ]
          },
          "metadata": {
            "tags": [],
            "needs_background": "light"
          }
        }
      ]
    },
    {
      "cell_type": "markdown",
      "metadata": {
        "id": "Pzk8biv_TbdY"
      },
      "source": [
        "## Baseline model performance visualization\n",
        "model is trained on all features "
      ]
    },
    {
      "cell_type": "code",
      "metadata": {
        "colab": {
          "base_uri": "https://localhost:8080/",
          "height": 227
        },
        "id": "3k66_KnDnr00",
        "outputId": "e2912b48-5ac4-4cf7-d9a8-db093276068f"
      },
      "source": [
        "# baseline model which is trained on all features\n",
        "visualize_model_predicitons(rf,100,X_valid.columns)"
      ],
      "execution_count": 60,
      "outputs": [
        {
          "output_type": "display_data",
          "data": {
            "image/png": "[encoded data removed]",
            "text/plain": [
              "<Figure size 1080x216 with 1 Axes>"
            ]
          },
          "metadata": {
            "tags": [],
            "needs_background": "light"
          }
        }
      ]
    },
    {
      "cell_type": "code",
      "metadata": {
        "colab": {
          "base_uri": "https://localhost:8080/",
          "height": 419
        },
        "id": "6cO1RTAFRr4V",
        "outputId": "d998ebc3-0b04-401a-825a-bf5a8251e165"
      },
      "source": [
        "# create a dataframe showing the performance of baseline model trained with all features\n",
        "y_preds_0 = rf.predict(X_valid)\n",
        "base_df = pd.DataFrame(data={'True val':y_valid.values, 'Prediction':y_preds_0 })\n",
        "base_df"
      ],
      "execution_count": 61,
      "outputs": [
        {
          "output_type": "execute_result",
          "data": {
            "text/html": [
              "<div>\n",
              "<style scoped>\n",
              "    .dataframe tbody tr th:only-of-type {\n",
              "        vertical-align: middle;\n",
              "    }\n",
              "\n",
              "    .dataframe tbody tr th {\n",
              "        vertical-align: top;\n",
              "    }\n",
              "\n",
              "    .dataframe thead th {\n",
              "        text-align: right;\n",
              "    }\n",
              "</style>\n",
              "<table border=\"1\" class=\"dataframe\">\n",
              "  <thead>\n",
              "    <tr style=\"text-align: right;\">\n",
              "      <th></th>\n",
              "      <th>True val</th>\n",
              "      <th>Prediction</th>\n",
              "    </tr>\n",
              "  </thead>\n",
              "  <tbody>\n",
              "    <tr>\n",
              "      <th>0</th>\n",
              "      <td>31000.0</td>\n",
              "      <td>44350.00</td>\n",
              "    </tr>\n",
              "    <tr>\n",
              "      <th>1</th>\n",
              "      <td>54000.0</td>\n",
              "      <td>65095.00</td>\n",
              "    </tr>\n",
              "    <tr>\n",
              "      <th>2</th>\n",
              "      <td>26500.0</td>\n",
              "      <td>37248.25</td>\n",
              "    </tr>\n",
              "    <tr>\n",
              "      <th>3</th>\n",
              "      <td>10000.0</td>\n",
              "      <td>16137.50</td>\n",
              "    </tr>\n",
              "    <tr>\n",
              "      <th>4</th>\n",
              "      <td>35000.0</td>\n",
              "      <td>40800.00</td>\n",
              "    </tr>\n",
              "    <tr>\n",
              "      <th>...</th>\n",
              "      <td>...</td>\n",
              "      <td>...</td>\n",
              "    </tr>\n",
              "    <tr>\n",
              "      <th>11568</th>\n",
              "      <td>10000.0</td>\n",
              "      <td>9462.50</td>\n",
              "    </tr>\n",
              "    <tr>\n",
              "      <th>11569</th>\n",
              "      <td>10500.0</td>\n",
              "      <td>11165.00</td>\n",
              "    </tr>\n",
              "    <tr>\n",
              "      <th>11570</th>\n",
              "      <td>12500.0</td>\n",
              "      <td>9812.50</td>\n",
              "    </tr>\n",
              "    <tr>\n",
              "      <th>11571</th>\n",
              "      <td>10000.0</td>\n",
              "      <td>12017.50</td>\n",
              "    </tr>\n",
              "    <tr>\n",
              "      <th>11572</th>\n",
              "      <td>13000.0</td>\n",
              "      <td>22025.00</td>\n",
              "    </tr>\n",
              "  </tbody>\n",
              "</table>\n",
              "<p>11573 rows × 2 columns</p>\n",
              "</div>"
            ],
            "text/plain": [
              "       True val  Prediction\n",
              "0       31000.0    44350.00\n",
              "1       54000.0    65095.00\n",
              "2       26500.0    37248.25\n",
              "3       10000.0    16137.50\n",
              "4       35000.0    40800.00\n",
              "...         ...         ...\n",
              "11568   10000.0     9462.50\n",
              "11569   10500.0    11165.00\n",
              "11570   12500.0     9812.50\n",
              "11571   10000.0    12017.50\n",
              "11572   13000.0    22025.00\n",
              "\n",
              "[11573 rows x 2 columns]"
            ]
          },
          "metadata": {
            "tags": []
          },
          "execution_count": 61
        }
      ]
    },
    {
      "cell_type": "markdown",
      "metadata": {
        "id": "uUg5ArUZOVIk"
      },
      "source": [
        "# Hyperparameter Tuning\n",
        "\n",
        "At this point, if we want to improve our model, we could try different hyperparameters (settings) try a different algorithm, or the best approach of all, gather more data! The performance of any model is directly proportional to the amount of valid data it can learn from\n",
        "\n",
        "we can user GridSearchCV or RandomizedSearchCV for tuning the model\n",
        "\n",
        ">*sklearn.model_selection.GridSearchCV*\n",
        ">\n",
        ">Exhaustive search over specified parameter values for an estimator.\n",
        "\n",
        ">*sklearn.model_selection.RandomizedSearchCV*\n",
        ">\n",
        ">Randomized search on hyper parameters."
      ]
    },
    {
      "cell_type": "code",
      "metadata": {
        "id": "D_40Mek3oqBg"
      },
      "source": [
        "param_dict = {\n",
        "    'max_features':['auto', 'sqrt', 'log2'],\n",
        "    'random_state':[42]\n",
        "}"
      ],
      "execution_count": 62,
      "outputs": []
    },
    {
      "cell_type": "code",
      "metadata": {
        "colab": {
          "base_uri": "https://localhost:8080/"
        },
        "id": "FHFdXAacop5O",
        "outputId": "8d2175d9-675e-4524-ee11-9a553cf3eba3"
      },
      "source": [
        "%%time\n",
        "from sklearn.model_selection import RandomizedSearchCV\n",
        "\n",
        "\n",
        "rs_model = RandomizedSearchCV(estimator=RandomForestRegressor(),\n",
        "                              param_distributions=param_dict,\n",
        "                              n_iter=2,\n",
        "                              cv=5,\n",
        "                              scoring='neg_mean_squared_log_error',\n",
        "                              random_state=42) \n",
        "\n",
        "rs_model.fit(X_train[extract_important_features(n=20)], y_train)"
      ],
      "execution_count": 63,
      "outputs": [
        {
          "output_type": "stream",
          "text": [
            "CPU times: user 35min 44s, sys: 8.96 s, total: 35min 52s\n",
            "Wall time: 35min 48s\n"
          ],
          "name": "stdout"
        }
      ]
    },
    {
      "cell_type": "code",
      "metadata": {
        "colab": {
          "base_uri": "https://localhost:8080/"
        },
        "id": "QuL5T69RophY",
        "outputId": "e74478a3-7a79-4a0d-f467-7ae11508f42f"
      },
      "source": [
        "# best-parameters-found\n",
        "rs_model.best_params_"
      ],
      "execution_count": 64,
      "outputs": [
        {
          "output_type": "execute_result",
          "data": {
            "text/plain": [
              "{'max_features': 'sqrt', 'random_state': 42}"
            ]
          },
          "metadata": {
            "tags": []
          },
          "execution_count": 64
        }
      ]
    },
    {
      "cell_type": "markdown",
      "metadata": {
        "id": "Bd5hg9FYO2fk"
      },
      "source": [
        "## Evaluate the tuned model"
      ]
    },
    {
      "cell_type": "code",
      "metadata": {
        "colab": {
          "base_uri": "https://localhost:8080/"
        },
        "id": "15JCsd_VAnyR",
        "outputId": "d3a1b0f7-6fc0-417e-c502-f1a786aad735"
      },
      "source": [
        "# evaluation of the RandomizedSearchCV-optimzed-model\n",
        "evaluation_fn(rs_model, X_valid[extract_important_features(n=20)], y_valid)"
      ],
      "execution_count": 65,
      "outputs": [
        {
          "output_type": "stream",
          "text": [
            "Evaluation function : Root Mean Squared Error\n"
          ],
          "name": "stdout"
        },
        {
          "output_type": "execute_result",
          "data": {
            "text/plain": [
              "0.24558706225377583"
            ]
          },
          "metadata": {
            "tags": []
          },
          "execution_count": 65
        }
      ]
    },
    {
      "cell_type": "markdown",
      "metadata": {
        "id": "-ZzFf0xJO7Pr"
      },
      "source": [
        "## Visualize the performance of tuned model"
      ]
    },
    {
      "cell_type": "code",
      "metadata": {
        "colab": {
          "base_uri": "https://localhost:8080/",
          "height": 227
        },
        "id": "GymvVt5zAnig",
        "outputId": "bae760aa-670c-4df2-98a6-a29e11e7252a"
      },
      "source": [
        "# visualize the model-perfromance\n",
        "visualize_model_predicitons(rs_model, 100, extract_important_features(n=20))"
      ],
      "execution_count": 66,
      "outputs": [
        {
          "output_type": "display_data",
          "data": {
            "image/png": "[encoded data removed]",
            "text/plain": [
              "<Figure size 1080x216 with 1 Axes>"
            ]
          },
          "metadata": {
            "tags": [],
            "needs_background": "light"
          }
        }
      ]
    },
    {
      "cell_type": "markdown",
      "metadata": {
        "id": "Ci7WCU9vOpWt"
      },
      "source": [
        "# Kaggle submission requirements\n",
        "\n",
        "When looking at the Kaggle submission requirements, we see that if we wanted to make a submission, the data is required to be in a certain format. Namely, a DataFrame containing the SalesID and the predicted SalePrice of the bulldozer."
      ]
    },
    {
      "cell_type": "code",
      "metadata": {
        "colab": {
          "base_uri": "https://localhost:8080/",
          "height": 204
        },
        "id": "v99Du9I9N3kB",
        "outputId": "3a245d68-510f-4d3c-fb85-14b6485ca7a6"
      },
      "source": [
        "\n",
        "# Make predictions on the test dataset using the best model\n",
        "test_preds = rs_model.predict(test_df_preprocessed[extract_important_features(n=20)])\n",
        "\n",
        "df_submit = pd.DataFrame()\n",
        "df_submit['SalesID'] = test_df_preprocessed['SalesID'].values\n",
        "df_submit['SalesPrice'] = test_preds\n",
        "df_submit.head()"
      ],
      "execution_count": 67,
      "outputs": [
        {
          "output_type": "execute_result",
          "data": {
            "text/html": [
              "<div>\n",
              "<style scoped>\n",
              "    .dataframe tbody tr th:only-of-type {\n",
              "        vertical-align: middle;\n",
              "    }\n",
              "\n",
              "    .dataframe tbody tr th {\n",
              "        vertical-align: top;\n",
              "    }\n",
              "\n",
              "    .dataframe thead th {\n",
              "        text-align: right;\n",
              "    }\n",
              "</style>\n",
              "<table border=\"1\" class=\"dataframe\">\n",
              "  <thead>\n",
              "    <tr style=\"text-align: right;\">\n",
              "      <th></th>\n",
              "      <th>SalesID</th>\n",
              "      <th>SalesPrice</th>\n",
              "    </tr>\n",
              "  </thead>\n",
              "  <tbody>\n",
              "    <tr>\n",
              "      <th>0</th>\n",
              "      <td>1227829</td>\n",
              "      <td>14734.50</td>\n",
              "    </tr>\n",
              "    <tr>\n",
              "      <th>1</th>\n",
              "      <td>1227844</td>\n",
              "      <td>28169.75</td>\n",
              "    </tr>\n",
              "    <tr>\n",
              "      <th>2</th>\n",
              "      <td>1227847</td>\n",
              "      <td>48875.00</td>\n",
              "    </tr>\n",
              "    <tr>\n",
              "      <th>3</th>\n",
              "      <td>1227848</td>\n",
              "      <td>97330.00</td>\n",
              "    </tr>\n",
              "    <tr>\n",
              "      <th>4</th>\n",
              "      <td>1227863</td>\n",
              "      <td>27265.00</td>\n",
              "    </tr>\n",
              "  </tbody>\n",
              "</table>\n",
              "</div>"
            ],
            "text/plain": [
              "   SalesID  SalesPrice\n",
              "0  1227829    14734.50\n",
              "1  1227844    28169.75\n",
              "2  1227847    48875.00\n",
              "3  1227848    97330.00\n",
              "4  1227863    27265.00"
            ]
          },
          "metadata": {
            "tags": []
          },
          "execution_count": 67
        }
      ]
    },
    {
      "cell_type": "code",
      "metadata": {
        "id": "ganHvS3ZVuoz"
      },
      "source": [
        ""
      ],
      "execution_count": 67,
      "outputs": []
    }
  ]
}